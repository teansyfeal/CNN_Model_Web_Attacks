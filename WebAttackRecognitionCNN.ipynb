{
 "cells": [
  {
   "cell_type": "markdown",
   "metadata": {},
   "source": [
    "Notebook is realized by *Volodymyr Motyka* and *Jaroslav Stepanyak*"
   ]
  },
  {
   "cell_type": "markdown",
   "metadata": {},
   "source": [
    "___"
   ]
  },
  {
   "cell_type": "markdown",
   "metadata": {},
   "source": [
    "We have HTTP requests and based on payloads of the requests we are detecting if it's an attack or not. <br>\n",
    "We have three datasets: two of normal traffic and one of anomalous traffic. Anomalous traffic means there are some anomalies in HTTP request and we should consider it as a Web-Attack. <br>\n",
    "A lot of Web-Attacks are based on manipulating payloads, so here we do the same."
   ]
  },
  {
   "cell_type": "markdown",
   "metadata": {},
   "source": [
    "The main problem is preprocessing data.\n",
    "\n",
    "Preprocessing data consists of 2 steps:\n",
    "1. Producing dictionary\n",
    "2. Producing matrixes\n",
    "\n",
    "More details below"
   ]
  },
  {
   "cell_type": "markdown",
   "metadata": {},
   "source": [
    "___\n",
    "First of all, import necessary modules and import anomalous data (only with anomalies) "
   ]
  },
  {
   "cell_type": "code",
   "execution_count": 1,
   "metadata": {},
   "outputs": [
    {
     "name": "stderr",
     "output_type": "stream",
     "text": [
      "C:\\Users\\Admin\\AppData\\Local\\Temp\\ipykernel_28428\\3144564507.py:5: ParserWarning: Falling back to the 'python' engine because the 'c' engine does not support regex separators (separators > 1 char and different from '\\s+' are interpreted as regex); you can avoid this warning by specifying engine='python'.\n",
      "  raw_data = pd.read_csv(\"anomalousTrafficTest.txt\",sep=\"/n/n\", header= None)\n"
     ]
    },
    {
     "data": {
      "text/html": [
       "<div>\n",
       "<style scoped>\n",
       "    .dataframe tbody tr th:only-of-type {\n",
       "        vertical-align: middle;\n",
       "    }\n",
       "\n",
       "    .dataframe tbody tr th {\n",
       "        vertical-align: top;\n",
       "    }\n",
       "\n",
       "    .dataframe thead th {\n",
       "        text-align: right;\n",
       "    }\n",
       "</style>\n",
       "<table border=\"1\" class=\"dataframe\">\n",
       "  <thead>\n",
       "    <tr style=\"text-align: right;\">\n",
       "      <th></th>\n",
       "      <th>0</th>\n",
       "    </tr>\n",
       "  </thead>\n",
       "  <tbody>\n",
       "    <tr>\n",
       "      <th>0</th>\n",
       "      <td>GET http://localhost:8080/tienda1/publico/anad...</td>\n",
       "    </tr>\n",
       "    <tr>\n",
       "      <th>1</th>\n",
       "      <td>User-Agent: Mozilla/5.0 (compatible; Konqueror...</td>\n",
       "    </tr>\n",
       "    <tr>\n",
       "      <th>2</th>\n",
       "      <td>Pragma: no-cache</td>\n",
       "    </tr>\n",
       "    <tr>\n",
       "      <th>3</th>\n",
       "      <td>Cache-control: no-cache</td>\n",
       "    </tr>\n",
       "    <tr>\n",
       "      <th>4</th>\n",
       "      <td>Accept: text/xml,application/xml,application/x...</td>\n",
       "    </tr>\n",
       "    <tr>\n",
       "      <th>...</th>\n",
       "      <td>...</td>\n",
       "    </tr>\n",
       "    <tr>\n",
       "      <th>305641</th>\n",
       "      <td>Accept-Charset: utf-8, utf-8;q=0.5, *;q=0.5</td>\n",
       "    </tr>\n",
       "    <tr>\n",
       "      <th>305642</th>\n",
       "      <td>Accept-Language: en</td>\n",
       "    </tr>\n",
       "    <tr>\n",
       "      <th>305643</th>\n",
       "      <td>Host: localhost:8080</td>\n",
       "    </tr>\n",
       "    <tr>\n",
       "      <th>305644</th>\n",
       "      <td>Cookie: JSESSIONID=3CC12010CDA952F123240EBAD79...</td>\n",
       "    </tr>\n",
       "    <tr>\n",
       "      <th>305645</th>\n",
       "      <td>Connection: close</td>\n",
       "    </tr>\n",
       "  </tbody>\n",
       "</table>\n",
       "<p>305646 rows × 1 columns</p>\n",
       "</div>"
      ],
      "text/plain": [
       "                                                        0\n",
       "0       GET http://localhost:8080/tienda1/publico/anad...\n",
       "1       User-Agent: Mozilla/5.0 (compatible; Konqueror...\n",
       "2                                        Pragma: no-cache\n",
       "3                                 Cache-control: no-cache\n",
       "4       Accept: text/xml,application/xml,application/x...\n",
       "...                                                   ...\n",
       "305641        Accept-Charset: utf-8, utf-8;q=0.5, *;q=0.5\n",
       "305642                                Accept-Language: en\n",
       "305643                               Host: localhost:8080\n",
       "305644  Cookie: JSESSIONID=3CC12010CDA952F123240EBAD79...\n",
       "305645                                  Connection: close\n",
       "\n",
       "[305646 rows x 1 columns]"
      ]
     },
     "execution_count": 1,
     "metadata": {},
     "output_type": "execute_result"
    }
   ],
   "source": [
    "import pandas as pd\n",
    "import numpy as np\n",
    "import matplotlib.pyplot as plt\n",
    "\n",
    "raw_data = pd.read_csv(\"anomalousTrafficTest.txt\",sep=\"/n/n\", header= None)\n",
    "raw_data"
   ]
  },
  {
   "cell_type": "markdown",
   "metadata": {},
   "source": [
    "We have realy bad data, so we need to clean it\n",
    "\n",
    "The most important data are in rows, which starts with \"GET\"\n",
    "So, we select only those rows and delete words \"GET\" and \"HTTP/1.1\"\n",
    "\n",
    "After that, we have URL and their Payloads, we split them into two columns"
   ]
  },
  {
   "cell_type": "code",
   "execution_count": 2,
   "metadata": {},
   "outputs": [
    {
     "name": "stderr",
     "output_type": "stream",
     "text": [
      "C:\\Users\\Admin\\AppData\\Local\\Temp\\ipykernel_28428\\4087905454.py:3: SettingWithCopyWarning: \n",
      "A value is trying to be set on a copy of a slice from a DataFrame.\n",
      "Try using .loc[row_indexer,col_indexer] = value instead\n",
      "\n",
      "See the caveats in the documentation: https://pandas.pydata.org/pandas-docs/stable/user_guide/indexing.html#returning-a-view-versus-a-copy\n",
      "  URL_Payload.loc[:, 0] = URL_Payload[0].apply(lambda x:\n",
      "C:\\Users\\Admin\\AppData\\Local\\Temp\\ipykernel_28428\\4087905454.py:6: SettingWithCopyWarning: \n",
      "A value is trying to be set on a copy of a slice from a DataFrame.\n",
      "Try using .loc[row_indexer,col_indexer] = value instead\n",
      "\n",
      "See the caveats in the documentation: https://pandas.pydata.org/pandas-docs/stable/user_guide/indexing.html#returning-a-view-versus-a-copy\n",
      "  URL_Payload[['URL', 'payload']] = URL_Payload[0].str.split('?', expand=True)\n",
      "C:\\Users\\Admin\\AppData\\Local\\Temp\\ipykernel_28428\\4087905454.py:6: SettingWithCopyWarning: \n",
      "A value is trying to be set on a copy of a slice from a DataFrame.\n",
      "Try using .loc[row_indexer,col_indexer] = value instead\n",
      "\n",
      "See the caveats in the documentation: https://pandas.pydata.org/pandas-docs/stable/user_guide/indexing.html#returning-a-view-versus-a-copy\n",
      "  URL_Payload[['URL', 'payload']] = URL_Payload[0].str.split('?', expand=True)\n"
     ]
    }
   ],
   "source": [
    "URL_Payload = raw_data[raw_data[0].str.contains('GET') == True ]\n",
    "\n",
    "URL_Payload.loc[:, 0] = URL_Payload[0].apply(lambda x: \n",
    "    x.replace(\"GET \", \"\").replace(\" HTTP/1.1\",\"\"))\n",
    "# Split the data at the '?' character\n",
    "URL_Payload[['URL', 'payload']] = URL_Payload[0].str.split('?', expand=True)\n",
    "URL_Payload = URL_Payload[['URL', 'payload']]"
   ]
  },
  {
   "cell_type": "markdown",
   "metadata": {},
   "source": [
    "The dictionary will be the filter for anomalous payloads. Keys are the anomalous payloads, values are the their counter in the dataset.<br>\n",
    "Now import necessary modules for producing dictionary. "
   ]
  },
  {
   "cell_type": "code",
   "execution_count": 3,
   "metadata": {},
   "outputs": [],
   "source": [
    "import nltk\n",
    "import re"
   ]
  },
  {
   "cell_type": "code",
   "execution_count": 4,
   "metadata": {},
   "outputs": [],
   "source": [
    "# Initialize an empty dictionary\n",
    "dict_filter = {}\n",
    "\n",
    "# Iterate over the rows in the dataframe\n",
    "for rdata in URL_Payload[URL_Payload['payload'].notna()].payload:\n",
    "  # Tokenize the data using the '&' delimiter\n",
    "  words = nltk.tokenize.regexp_tokenize(rdata, pattern=r\"&\", gaps=True)\n",
    "  # Iterate over the words\n",
    "  for word in words:\n",
    "    # Check if the word is in the dictionary\n",
    "    if word not in dict_filter:\n",
    "      # If not, add it with a count of 1\n",
    "      dict_filter[word] = 1\n",
    "    else:\n",
    "      # If it is, increment the count\n",
    "      dict_filter[word] += 1"
   ]
  },
  {
   "cell_type": "markdown",
   "metadata": {},
   "source": [
    "The dictionary looks like this: <br>\n",
    "{'id=2': 375, <br>\n",
    " 'nombre=Jam%F3n+Ib%E9rico': 318,<br>\n",
    " 'precio=85': 334,<br>\n",
    " 'cantidad=%27%3B+DROP+TABLE+usuarios%3B+SELECT+*+FROM+datos+WHERE+nombre+LIKE+%27%25': 3,<br>\n",
    " 'B1=A%F1adir+al+carrito': 1192,<br>\n",
    " 'id=2%2F': 46,<br>\n",
    " 'cantidad=49': 7,<br>\n",
    " 'modo=entrar': 1183,<br>\n",
    " 'login=bob%40%3CSCRipt%3Ealert%28Paros%29%3C%2FscrIPT%3E.parosproxy.org': 5,<br>\n",
    " 'pwd=84m3ri156': 2,<br>\n",
    " 'remember=on': 554,<br>\n",
    " 'B1=Entrar': 1173,<br>\n",
    " 'login=grimshaw': 2,<br>\n",
    " 'pwd=G%2F%2FlAc%2CIAr': 1,<br>\n",
    " 'rememberA=on': 42,<br>\n",
    " 'idA=2': 251,<br>\n",
    " ..."
   ]
  },
  {
   "cell_type": "markdown",
   "metadata": {},
   "source": [
    "We've produced the dictionary dict_filter.\n",
    "In the next step, we will use it as a filter."
   ]
  },
  {
   "cell_type": "markdown",
   "metadata": {},
   "source": [
    "This is the second step: matrixes production.\n",
    "For that we produced function"
   ]
  },
  {
   "cell_type": "markdown",
   "metadata": {},
   "source": [
    "The function produce_matrixs_df takes in two arguments: 'samples' and 'dict_filter'.\n",
    "\n",
    "'samples' is a list of samples, and 'dict_filter' is a dictionary.\n",
    "\n",
    "The function initializes an empty list called 'matrixs_df' to store the matrices that will be generated.\n",
    "\n",
    "It then iterates over the samples list, and for each sample, it creates a matrix of zeros with dimensions (15000,). It tokenizes the sample using the '&' character as the delimiter, and creates a new dictionary called 'dict_v2' with keys corresponding to the tokenized elements and values of 1 if the element is in the dict_filter dictionary, or 0 otherwise.\n",
    "\n",
    "The function then gets the keys of the 'dict_filter' dictionary and stores them in a list called 'dict_filter_keys'. It then iterates over the keys in 'dict_v2', and for each key, it searches for the corresponding index in the list of keys from 'dict_filter'. If a match is found, it sets the value of the matrix at this index to 1.\n",
    "\n",
    "Finally, the function reshapes the matrix to dimensions (150,100) and appends it to the list of matrices, 'matrixs_df'.\n",
    "\n",
    "Once all of the samples have been processed, the function returns the list of matrices, 'matrixs_df'."
   ]
  },
  {
   "cell_type": "code",
   "execution_count": 9,
   "metadata": {},
   "outputs": [],
   "source": [
    "def produce_matrixs_df(samples, dict_filter):\n",
    "    # Initialize an empty list to store the matrices\n",
    "    matrixs_df = []\n",
    "    \n",
    "    # Iterate over the samples\n",
    "    for sample in samples:\n",
    "        # Initialize a matrix of zeros with dimensions (15000,)\n",
    "        matrix = np.zeros((15000))\n",
    "        \n",
    "        # Tokenize the sample using the '&' character as the delimiter\n",
    "        sample_tokenized = nltk.tokenize.regexp_tokenize(sample, pattern=r\"&\", gaps=True)\n",
    "        \n",
    "        # Create a dictionary with keys corresponding to the tokenized elements\n",
    "        # and values of 1 if the element is in the dict_filter dictionary, or 0 otherwise\n",
    "        dict_v2 = {}\n",
    "        for el in sample_tokenized:\n",
    "            if el in dict_filter:\n",
    "                dict_v2[el] = 1\n",
    "            else:\n",
    "                dict_v2[el] = 0\n",
    "        \n",
    "        # Get the keys of the dict_filter dictionary\n",
    "        dict_filter_keys = list(dict_filter.keys())\n",
    "\n",
    "        # Iterate over the keys in the new dictionary, and find the corresponding index in the list of keys from dict_filter\n",
    "        for key in dict_v2.keys():\n",
    "            for i, df_key in enumerate(dict_filter_keys):\n",
    "                if key == df_key:\n",
    "                    # Set the value of the matrix at this index to 1\n",
    "                    matrix[i] = 1\n",
    "                    \n",
    "        # Reshape the matrix to dimensions (124, 124) and append it to the list of matrices\n",
    "        matrixs_df.append(matrix.reshape(150,100))\n",
    "    \n",
    "    # Return the list of matrices\n",
    "    return matrixs_df"
   ]
  },
  {
   "cell_type": "markdown",
   "metadata": {},
   "source": [
    "The point of having matrixes is to use CNN model to detect Web-Attacks.<br>\n",
    "Every pixel of the matrix has in correspondence the anomalous payload from the dict_filter"
   ]
  },
  {
   "cell_type": "markdown",
   "metadata": {},
   "source": [
    "Upload data with normal traffic and preprocess them the same way we did it with data at the start"
   ]
  },
  {
   "cell_type": "code",
   "execution_count": 7,
   "metadata": {},
   "outputs": [
    {
     "name": "stderr",
     "output_type": "stream",
     "text": [
      "C:\\Users\\Admin\\AppData\\Local\\Temp\\ipykernel_28428\\3543599310.py:1: ParserWarning: Falling back to the 'python' engine because the 'c' engine does not support regex separators (separators > 1 char and different from '\\s+' are interpreted as regex); you can avoid this warning by specifying engine='python'.\n",
      "  raw_data_norm_train = pd.read_csv(\"normalTrafficTraining.txt\",sep=\"/n/n\", header= None)\n",
      "C:\\Users\\Admin\\AppData\\Local\\Temp\\ipykernel_28428\\3543599310.py:2: ParserWarning: Falling back to the 'python' engine because the 'c' engine does not support regex separators (separators > 1 char and different from '\\s+' are interpreted as regex); you can avoid this warning by specifying engine='python'.\n",
      "  raw_data_norm_test = pd.read_csv(\"normalTrafficTest.txt\",sep=\"/n/n\", header= None)\n",
      "C:\\Users\\Admin\\AppData\\Local\\Temp\\ipykernel_28428\\3543599310.py:7: SettingWithCopyWarning: \n",
      "A value is trying to be set on a copy of a slice from a DataFrame.\n",
      "Try using .loc[row_indexer,col_indexer] = value instead\n",
      "\n",
      "See the caveats in the documentation: https://pandas.pydata.org/pandas-docs/stable/user_guide/indexing.html#returning-a-view-versus-a-copy\n",
      "  URL_Payload_norm.loc[:, 0] = URL_Payload_norm[0].apply(lambda x:\n",
      "C:\\Users\\Admin\\AppData\\Local\\Temp\\ipykernel_28428\\3543599310.py:10: SettingWithCopyWarning: \n",
      "A value is trying to be set on a copy of a slice from a DataFrame.\n",
      "Try using .loc[row_indexer,col_indexer] = value instead\n",
      "\n",
      "See the caveats in the documentation: https://pandas.pydata.org/pandas-docs/stable/user_guide/indexing.html#returning-a-view-versus-a-copy\n",
      "  URL_Payload_norm[['URL', 'payload']] = URL_Payload_norm[0].str.split('?', expand=True)\n",
      "C:\\Users\\Admin\\AppData\\Local\\Temp\\ipykernel_28428\\3543599310.py:10: SettingWithCopyWarning: \n",
      "A value is trying to be set on a copy of a slice from a DataFrame.\n",
      "Try using .loc[row_indexer,col_indexer] = value instead\n",
      "\n",
      "See the caveats in the documentation: https://pandas.pydata.org/pandas-docs/stable/user_guide/indexing.html#returning-a-view-versus-a-copy\n",
      "  URL_Payload_norm[['URL', 'payload']] = URL_Payload_norm[0].str.split('?', expand=True)\n"
     ]
    }
   ],
   "source": [
    "raw_data_norm_train = pd.read_csv(\"normalTrafficTraining.txt\",sep=\"/n/n\", header= None)\n",
    "raw_data_norm_test = pd.read_csv(\"normalTrafficTest.txt\",sep=\"/n/n\", header= None)\n",
    "raw_data_norm = pd.concat([raw_data_norm_train,raw_data_norm_test])\n",
    "\n",
    "URL_Payload_norm = raw_data_norm[raw_data_norm[0].str.contains('GET') == True ]\n",
    "\n",
    "URL_Payload_norm.loc[:, 0] = URL_Payload_norm[0].apply(lambda x: \n",
    "    x.replace(\"GET \", \"\").replace(\" HTTP/1.1\",\"\"))\n",
    "# Split the data at the '?' character\n",
    "URL_Payload_norm[['URL', 'payload']] = URL_Payload_norm[0].str.split('?', expand=True)\n",
    "URL_Payload_norm = URL_Payload_norm[['URL', 'payload']]"
   ]
  },
  {
   "cell_type": "markdown",
   "metadata": {},
   "source": [
    "Produce matrix for every HTTP request of normal traffic. Then create dataframe and label them as all as 0 (which means there's no web-attack in the URL)"
   ]
  },
  {
   "cell_type": "code",
   "execution_count": 10,
   "metadata": {},
   "outputs": [],
   "source": [
    "samples_ = URL_Payload_norm[URL_Payload_norm[\"payload\"].notnull()]\n",
    "samples_ = samples_[\"payload\"]\n",
    "\n",
    "res = produce_matrixs_df(samples_,dict_filter) \n",
    "df_norm = pd.DataFrame({'matrix': res, 'label': 0})"
   ]
  },
  {
   "cell_type": "markdown",
   "metadata": {},
   "source": [
    "Produce matrix for every HTTP request of anomalous traffic. Then create dataframe and label them as all as 1 (which means there's a web-attack in the URL)"
   ]
  },
  {
   "cell_type": "code",
   "execution_count": 11,
   "metadata": {},
   "outputs": [],
   "source": [
    "samples_ = URL_Payload[URL_Payload[\"payload\"].notnull()]\n",
    "samples_ = samples_[\"payload\"]\n",
    "\n",
    "res = produce_matrixs_df(samples_,dict_filter) \n",
    "df_anom = pd.DataFrame({'matrix': res, 'label': 1})"
   ]
  },
  {
   "cell_type": "code",
   "execution_count": 12,
   "metadata": {},
   "outputs": [],
   "source": [
    "df = pd.concat([df_norm,df_anom])\n",
    "df.reset_index(inplace=True)\n",
    "df=df.drop('index',axis=1)"
   ]
  },
  {
   "cell_type": "markdown",
   "metadata": {},
   "source": [
    "We have dataframe with labeled matrixes, we will use it for our CNN model"
   ]
  },
  {
   "cell_type": "code",
   "execution_count": 15,
   "metadata": {},
   "outputs": [
    {
     "data": {
      "text/html": [
       "<div>\n",
       "<style scoped>\n",
       "    .dataframe tbody tr th:only-of-type {\n",
       "        vertical-align: middle;\n",
       "    }\n",
       "\n",
       "    .dataframe tbody tr th {\n",
       "        vertical-align: top;\n",
       "    }\n",
       "\n",
       "    .dataframe thead th {\n",
       "        text-align: right;\n",
       "    }\n",
       "</style>\n",
       "<table border=\"1\" class=\"dataframe\">\n",
       "  <thead>\n",
       "    <tr style=\"text-align: right;\">\n",
       "      <th></th>\n",
       "      <th>matrix</th>\n",
       "      <th>label</th>\n",
       "    </tr>\n",
       "  </thead>\n",
       "  <tbody>\n",
       "    <tr>\n",
       "      <th>0</th>\n",
       "      <td>[[0.0, 0.0, 0.0, 0.0, 1.0, 0.0, 0.0, 0.0, 0.0,...</td>\n",
       "      <td>0</td>\n",
       "    </tr>\n",
       "    <tr>\n",
       "      <th>1</th>\n",
       "      <td>[[0.0, 0.0, 0.0, 0.0, 0.0, 0.0, 0.0, 1.0, 0.0,...</td>\n",
       "      <td>0</td>\n",
       "    </tr>\n",
       "    <tr>\n",
       "      <th>2</th>\n",
       "      <td>[[1.0, 0.0, 0.0, 0.0, 0.0, 0.0, 0.0, 0.0, 0.0,...</td>\n",
       "      <td>0</td>\n",
       "    </tr>\n",
       "    <tr>\n",
       "      <th>3</th>\n",
       "      <td>[[0.0, 0.0, 0.0, 0.0, 0.0, 0.0, 0.0, 0.0, 0.0,...</td>\n",
       "      <td>0</td>\n",
       "    </tr>\n",
       "    <tr>\n",
       "      <th>4</th>\n",
       "      <td>[[0.0, 0.0, 0.0, 0.0, 0.0, 0.0, 0.0, 0.0, 0.0,...</td>\n",
       "      <td>0</td>\n",
       "    </tr>\n",
       "    <tr>\n",
       "      <th>...</th>\n",
       "      <td>...</td>\n",
       "      <td>...</td>\n",
       "    </tr>\n",
       "    <tr>\n",
       "      <th>25604</th>\n",
       "      <td>[[0.0, 0.0, 0.0, 0.0, 0.0, 0.0, 0.0, 0.0, 0.0,...</td>\n",
       "      <td>1</td>\n",
       "    </tr>\n",
       "    <tr>\n",
       "      <th>25605</th>\n",
       "      <td>[[0.0, 0.0, 0.0, 0.0, 0.0, 0.0, 0.0, 0.0, 0.0,...</td>\n",
       "      <td>1</td>\n",
       "    </tr>\n",
       "    <tr>\n",
       "      <th>25606</th>\n",
       "      <td>[[0.0, 0.0, 0.0, 0.0, 0.0, 0.0, 0.0, 0.0, 0.0,...</td>\n",
       "      <td>1</td>\n",
       "    </tr>\n",
       "    <tr>\n",
       "      <th>25607</th>\n",
       "      <td>[[0.0, 0.0, 0.0, 0.0, 0.0, 0.0, 0.0, 0.0, 0.0,...</td>\n",
       "      <td>1</td>\n",
       "    </tr>\n",
       "    <tr>\n",
       "      <th>25608</th>\n",
       "      <td>[[0.0, 0.0, 0.0, 0.0, 0.0, 0.0, 0.0, 0.0, 0.0,...</td>\n",
       "      <td>1</td>\n",
       "    </tr>\n",
       "  </tbody>\n",
       "</table>\n",
       "<p>25609 rows × 2 columns</p>\n",
       "</div>"
      ],
      "text/plain": [
       "                                                  matrix  label\n",
       "0      [[0.0, 0.0, 0.0, 0.0, 1.0, 0.0, 0.0, 0.0, 0.0,...      0\n",
       "1      [[0.0, 0.0, 0.0, 0.0, 0.0, 0.0, 0.0, 1.0, 0.0,...      0\n",
       "2      [[1.0, 0.0, 0.0, 0.0, 0.0, 0.0, 0.0, 0.0, 0.0,...      0\n",
       "3      [[0.0, 0.0, 0.0, 0.0, 0.0, 0.0, 0.0, 0.0, 0.0,...      0\n",
       "4      [[0.0, 0.0, 0.0, 0.0, 0.0, 0.0, 0.0, 0.0, 0.0,...      0\n",
       "...                                                  ...    ...\n",
       "25604  [[0.0, 0.0, 0.0, 0.0, 0.0, 0.0, 0.0, 0.0, 0.0,...      1\n",
       "25605  [[0.0, 0.0, 0.0, 0.0, 0.0, 0.0, 0.0, 0.0, 0.0,...      1\n",
       "25606  [[0.0, 0.0, 0.0, 0.0, 0.0, 0.0, 0.0, 0.0, 0.0,...      1\n",
       "25607  [[0.0, 0.0, 0.0, 0.0, 0.0, 0.0, 0.0, 0.0, 0.0,...      1\n",
       "25608  [[0.0, 0.0, 0.0, 0.0, 0.0, 0.0, 0.0, 0.0, 0.0,...      1\n",
       "\n",
       "[25609 rows x 2 columns]"
      ]
     },
     "execution_count": 15,
     "metadata": {},
     "output_type": "execute_result"
    }
   ],
   "source": [
    "df"
   ]
  },
  {
   "cell_type": "code",
   "execution_count": 11,
   "metadata": {},
   "outputs": [
    {
     "data": {
      "text/plain": [
       "array([[0., 0., 0., ..., 0., 0., 0.],\n",
       "       [0., 0., 0., ..., 0., 0., 0.],\n",
       "       [0., 0., 0., ..., 0., 0., 0.],\n",
       "       ...,\n",
       "       [0., 0., 0., ..., 0., 0., 0.],\n",
       "       [0., 0., 0., ..., 0., 0., 0.],\n",
       "       [0., 0., 0., ..., 0., 0., 0.]])"
      ]
     },
     "execution_count": 11,
     "metadata": {},
     "output_type": "execute_result"
    }
   ],
   "source": [
    "df['matrix'][0]"
   ]
  },
  {
   "cell_type": "markdown",
   "metadata": {},
   "source": [
    "The following code is visualising a random matrix. White pixels represent anomalies, black pixels represent normal payloads "
   ]
  },
  {
   "cell_type": "code",
   "execution_count": 19,
   "metadata": {},
   "outputs": [
    {
     "data": {
      "image/png": "[encoded data removed]",
      "text/plain": [
       "<Figure size 640x480 with 1 Axes>"
      ]
     },
     "metadata": {},
     "output_type": "display_data"
    }
   ],
   "source": [
    "mat=np.asarray(df['matrix'][25000]).astype('float32')\n",
    "\n",
    "plt.imshow(mat, cmap='gray')  \n",
    "plt.show()"
   ]
  },
  {
   "cell_type": "markdown",
   "metadata": {},
   "source": [
    "___\n",
    "Here we are building our CNN, but before that we need to split our dataset into train and test datasets"
   ]
  },
  {
   "cell_type": "code",
   "execution_count": 20,
   "metadata": {},
   "outputs": [],
   "source": [
    "from sklearn.model_selection import train_test_split\n",
    "\n",
    "X_train, X_test, y_train, y_test = train_test_split(df['matrix'], df['label'], test_size=0.2, random_state=42, stratify=df['label'])"
   ]
  },
  {
   "cell_type": "code",
   "execution_count": 21,
   "metadata": {},
   "outputs": [
    {
     "data": {
      "text/plain": [
       "(20487,)"
      ]
     },
     "execution_count": 21,
     "metadata": {},
     "output_type": "execute_result"
    }
   ],
   "source": [
    "X_train.shape"
   ]
  },
  {
   "cell_type": "markdown",
   "metadata": {},
   "source": [
    "We cannot use the 'X_train' and 'X_test' for fitting any CNN model, we need to change shape of the variables"
   ]
  },
  {
   "cell_type": "code",
   "execution_count": 22,
   "metadata": {},
   "outputs": [],
   "source": [
    "X_train = np.stack(X_train, axis=0)\n",
    "\n",
    "# Add an additional dimension for the channels\n",
    "X_train = np.expand_dims(X_train, axis=-1)\n",
    "\n",
    "X_test = np.stack(X_test, axis=0)\n",
    "\n",
    "# Add an additional dimension for the channels\n",
    "X_test = np.expand_dims(X_test, axis=-1)"
   ]
  },
  {
   "cell_type": "code",
   "execution_count": 23,
   "metadata": {},
   "outputs": [
    {
     "data": {
      "text/plain": [
       "(20487, 150, 100, 1)"
      ]
     },
     "execution_count": 23,
     "metadata": {},
     "output_type": "execute_result"
    }
   ],
   "source": [
    "X_train.shape"
   ]
  },
  {
   "cell_type": "markdown",
   "metadata": {},
   "source": [
    "Now, we're creating our CNN model\n",
    "\n",
    "The structure of our model is similar to [LeNet](https://en.wikipedia.org/wiki/LeNet) neural network \n"
   ]
  },
  {
   "cell_type": "code",
   "execution_count": 24,
   "metadata": {},
   "outputs": [],
   "source": [
    "from tensorflow import keras\n",
    "import itertools\n",
    "import matplotlib.pyplot as plt"
   ]
  },
  {
   "cell_type": "code",
   "execution_count": 25,
   "metadata": {},
   "outputs": [],
   "source": [
    "input_shape = (150, 100, 1)"
   ]
  },
  {
   "cell_type": "code",
   "execution_count": 29,
   "metadata": {},
   "outputs": [],
   "source": [
    "model = keras.Sequential([\n",
    "    keras.layers.Conv2D(16, (4,4),padding=\"same\", activation='relu', input_shape=input_shape),\n",
    "    keras.layers.MaxPooling2D(pool_size=(4, 4)),\n",
    "    keras.layers.Conv2D(16, (4,4),padding=\"same\", activation='relu'),\n",
    "    keras.layers.MaxPooling2D(pool_size=(4, 4)),\n",
    "    keras.layers.Flatten(),\n",
    "    keras.layers.Dense(128, activation='relu'),\n",
    "    keras.layers.Dense(1, activation='sigmoid')\n",
    "])\n",
    "\n",
    "model.compile(optimizer='adam', loss='binary_crossentropy', metrics=['accuracy'])"
   ]
  },
  {
   "cell_type": "code",
   "execution_count": 31,
   "metadata": {},
   "outputs": [
    {
     "name": "stdout",
     "output_type": "stream",
     "text": [
      "Epoch 1/5\n",
      "641/641 [==============================] - 27s 41ms/step - loss: 0.2264 - accuracy: 0.9131\n",
      "Epoch 2/5\n",
      "641/641 [==============================] - 27s 43ms/step - loss: 0.0758 - accuracy: 0.9735\n",
      "Epoch 3/5\n",
      "641/641 [==============================] - 27s 43ms/step - loss: 0.0522 - accuracy: 0.9823\n",
      "Epoch 4/5\n",
      "641/641 [==============================] - 34s 53ms/step - loss: 0.0403 - accuracy: 0.9857\n",
      "Epoch 5/5\n",
      "641/641 [==============================] - 38s 59ms/step - loss: 0.0340 - accuracy: 0.9893\n"
     ]
    }
   ],
   "source": [
    "history = model.fit(X_train, y_train, epochs=5)"
   ]
  },
  {
   "cell_type": "markdown",
   "metadata": {},
   "source": [
    "Let's evaluate our model"
   ]
  },
  {
   "cell_type": "code",
   "execution_count": 34,
   "metadata": {},
   "outputs": [
    {
     "name": "stdout",
     "output_type": "stream",
     "text": [
      "161/161 [==============================] - 2s 14ms/step\n"
     ]
    },
    {
     "data": {
      "image/png": "[encoded data removed]",
      "text/plain": [
       "<Figure size 640x480 with 1 Axes>"
      ]
     },
     "metadata": {},
     "output_type": "display_data"
    },
    {
     "name": "stdout",
     "output_type": "stream",
     "text": [
      "              precision    recall  f1-score   support\n",
      "\n",
      "           0       0.99      0.99      0.99      3200\n",
      "           1       0.98      0.98      0.98      1922\n",
      "\n",
      "    accuracy                           0.99      5122\n",
      "   macro avg       0.99      0.99      0.99      5122\n",
      "weighted avg       0.99      0.99      0.99      5122\n",
      "\n"
     ]
    },
    {
     "data": {
      "image/png": "[encoded data removed]",
      "text/plain": [
       "<Figure size 640x480 with 2 Axes>"
      ]
     },
     "metadata": {},
     "output_type": "display_data"
    },
    {
     "data": {
      "image/png": "[encoded data removed]",
      "text/plain": [
       "<Figure size 640x480 with 1 Axes>"
      ]
     },
     "metadata": {},
     "output_type": "display_data"
    },
    {
     "data": {
      "image/png": "[encoded data removed]",
      "text/plain": [
       "<Figure size 640x480 with 1 Axes>"
      ]
     },
     "metadata": {},
     "output_type": "display_data"
    }
   ],
   "source": [
    "from keras.activations import softmax\n",
    "from sklearn.metrics import roc_curve, auc, confusion_matrix, ConfusionMatrixDisplay, f1_score, precision_score, recall_score, classification_report\n",
    "\n",
    "# Get the predicted probabilities for the test data\n",
    "y_pred = model.predict(X_test)\n",
    "\n",
    "y_pred_binary = np.round(y_pred)\n",
    "\n",
    "# Compute the ROC curve\n",
    "fpr, tpr, thresholds = roc_curve(y_test, y_pred)\n",
    "roc_auc = auc(fpr, tpr)\n",
    "\n",
    "# Plot the ROC curve\n",
    "plt.plot(fpr, tpr, label='ROC curve (AUC = %0.2f)' % roc_auc)\n",
    "plt.plot([0, 1], [0, 1], 'k--')  # random predictions curve\n",
    "plt.xlim([0.0, 1.0])\n",
    "plt.ylim([0.0, 1.0])\n",
    "plt.xlabel('False Positive Rate or (1 - Specifity)')\n",
    "plt.ylabel('True Positive Rate or (Sensitivity)')\n",
    "plt.title('Receiver Operating Characteristic')\n",
    "plt.legend(loc=\"lower right\")\n",
    "plt.show()\n",
    "\n",
    "ConfusionMatrixDisplay(confusion_matrix(y_test, y_pred_binary)).plot()\n",
    "print(classification_report(y_test, y_pred_binary))\n",
    "\n",
    "for i in ['accuracy', 'loss']:\n",
    "    acc = history.history[i]\n",
    "    epochs = range(1, len(acc) + 1)\n",
    "\n",
    "    plt.figure()\n",
    "    plt.plot(epochs, acc, label='Training {}'.format(i))\n",
    "    plt.title('Results for {}'.format(i))\n",
    "    plt.legend()\n",
    "    plt.show()"
   ]
  }
 ],
 "metadata": {
  "kernelspec": {
   "display_name": "Python 3.9.7 ('base')",
   "language": "python",
   "name": "python3"
  },
  "language_info": {
   "codemirror_mode": {
    "name": "ipython",
    "version": 3
   },
   "file_extension": ".py",
   "mimetype": "text/x-python",
   "name": "python",
   "nbconvert_exporter": "python",
   "pygments_lexer": "ipython3",
   "version": "3.9.7"
  },
  "orig_nbformat": 4,
  "vscode": {
   "interpreter": {
    "hash": "bd97b8bffa4d3737e84826bc3d37be3046061822757ce35137ab82ad4c5a2016"
   }
  }
 },
 "nbformat": 4,
 "nbformat_minor": 2
}
